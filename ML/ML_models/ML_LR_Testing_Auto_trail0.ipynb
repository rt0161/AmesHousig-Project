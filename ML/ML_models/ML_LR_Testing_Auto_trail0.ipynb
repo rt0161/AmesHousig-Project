{
 "cells": [
  {
   "cell_type": "markdown",
   "metadata": {},
   "source": [
    "###  In this notebook , model testing is automated in for-loops,\n",
    "### This notebook is created for optimization of model testing procedure"
   ]
  },
  {
   "cell_type": "code",
   "execution_count": 36,
   "metadata": {},
   "outputs": [],
   "source": [
    "import pandas as pd\n",
    "import numpy as np\n",
    "from tqdm import tqdm\n",
    "from sklearn import linear_model"
   ]
  },
  {
   "cell_type": "code",
   "execution_count": 4,
   "metadata": {},
   "outputs": [],
   "source": [
    "## Data loading procedure"
   ]
  },
  {
   "cell_type": "code",
   "execution_count": 5,
   "metadata": {},
   "outputs": [],
   "source": [
    "X_2house = pd.read_csv('/wgdisk/ho0338/ek79/Tien/X_2house_v0.csv')\n",
    "X_2house=X_2house.drop(columns=['Unnamed: 0'])\n",
    "X_2house.index.rename('Order', inplace=True)"
   ]
  },
  {
   "cell_type": "code",
   "execution_count": 7,
   "metadata": {},
   "outputs": [],
   "source": [
    "y_2house = np.load('Data/Processed/y_2house.npy')"
   ]
  },
  {
   "cell_type": "code",
   "execution_count": 8,
   "metadata": {},
   "outputs": [
    {
     "name": "stdout",
     "output_type": "stream",
     "text": [
      "X_input: (4290985, 158)\n",
      "y_input: (4290985,)\n"
     ]
    }
   ],
   "source": [
    "## check on the data dimensions\n",
    "print('X_input:',X_2house.shape)\n",
    "print('y_input:',y_2house.shape)"
   ]
  },
  {
   "cell_type": "code",
   "execution_count": 9,
   "metadata": {},
   "outputs": [],
   "source": [
    "## setup train-test split\n",
    "from sklearn.model_selection import train_test_split, metrics\n",
    "X_train, X_test, y_train, y_test = train_test_split(X_2house, y_2house, test_size=0.5, random_state=12)"
   ]
  },
  {
   "cell_type": "code",
   "execution_count": 37,
   "metadata": {},
   "outputs": [
    {
     "name": "stdout",
     "output_type": "stream",
     "text": [
      "(2145492, 158)\n",
      "(2145492,)\n",
      "(2145493, 158)\n",
      "(2145493,)\n"
     ]
    }
   ],
   "source": [
    "print(X_train.shape)\n",
    "print(y_train.shape)\n",
    "print(X_test.shape)\n",
    "print(y_test.shape)"
   ]
  },
  {
   "cell_type": "code",
   "execution_count": 91,
   "metadata": {},
   "outputs": [],
   "source": [
    "### setup model parameters\n",
    "#mod_type = ['Lasso','Ridge']\n",
    "mod_type = ['Lasso','Ridge']\n",
    "fit_int, norm, copyX, max_itr, tolerance, solv, Precomp, pos, r_stat = False, False, True, None, 0.001, 'auto', False, False, 12\n",
    "test_alph = [5.0,2.0,1.0,0.1]"
   ]
  },
  {
   "cell_type": "code",
   "execution_count": 92,
   "metadata": {},
   "outputs": [],
   "source": [
    "# prepare the numpy array to store the model coefficients & intercepts\n",
    "k = X_train.shape[1]\n",
    "r_k = len(mod_type)*len(test_alph)\n",
    "col_names =['model_type','alpha']\n",
    "for i in range(k):\n",
    "    str_name = 'coef_'+str(i+1)\n",
    "    col_names=col_names+[str(str_name)]   \n",
    "col_names = col_names+['intercept']"
   ]
  },
  {
   "cell_type": "code",
   "execution_count": 93,
   "metadata": {},
   "outputs": [
    {
     "data": {
      "text/html": [
       "<div>\n",
       "<style scoped>\n",
       "    .dataframe tbody tr th:only-of-type {\n",
       "        vertical-align: middle;\n",
       "    }\n",
       "\n",
       "    .dataframe tbody tr th {\n",
       "        vertical-align: top;\n",
       "    }\n",
       "\n",
       "    .dataframe thead th {\n",
       "        text-align: right;\n",
       "    }\n",
       "</style>\n",
       "<table border=\"1\" class=\"dataframe\">\n",
       "  <thead>\n",
       "    <tr style=\"text-align: right;\">\n",
       "      <th></th>\n",
       "      <th>model_type</th>\n",
       "      <th>alpha</th>\n",
       "      <th>coef_1</th>\n",
       "      <th>coef_2</th>\n",
       "      <th>coef_3</th>\n",
       "      <th>coef_4</th>\n",
       "      <th>coef_5</th>\n",
       "      <th>coef_6</th>\n",
       "      <th>coef_7</th>\n",
       "      <th>coef_8</th>\n",
       "      <th>...</th>\n",
       "      <th>coef_150</th>\n",
       "      <th>coef_151</th>\n",
       "      <th>coef_152</th>\n",
       "      <th>coef_153</th>\n",
       "      <th>coef_154</th>\n",
       "      <th>coef_155</th>\n",
       "      <th>coef_156</th>\n",
       "      <th>coef_157</th>\n",
       "      <th>coef_158</th>\n",
       "      <th>intercept</th>\n",
       "    </tr>\n",
       "  </thead>\n",
       "  <tbody>\n",
       "  </tbody>\n",
       "</table>\n",
       "<p>0 rows × 161 columns</p>\n",
       "</div>"
      ],
      "text/plain": [
       "Empty DataFrame\n",
       "Columns: [model_type, alpha, coef_1, coef_2, coef_3, coef_4, coef_5, coef_6, coef_7, coef_8, coef_9, coef_10, coef_11, coef_12, coef_13, coef_14, coef_15, coef_16, coef_17, coef_18, coef_19, coef_20, coef_21, coef_22, coef_23, coef_24, coef_25, coef_26, coef_27, coef_28, coef_29, coef_30, coef_31, coef_32, coef_33, coef_34, coef_35, coef_36, coef_37, coef_38, coef_39, coef_40, coef_41, coef_42, coef_43, coef_44, coef_45, coef_46, coef_47, coef_48, coef_49, coef_50, coef_51, coef_52, coef_53, coef_54, coef_55, coef_56, coef_57, coef_58, coef_59, coef_60, coef_61, coef_62, coef_63, coef_64, coef_65, coef_66, coef_67, coef_68, coef_69, coef_70, coef_71, coef_72, coef_73, coef_74, coef_75, coef_76, coef_77, coef_78, coef_79, coef_80, coef_81, coef_82, coef_83, coef_84, coef_85, coef_86, coef_87, coef_88, coef_89, coef_90, coef_91, coef_92, coef_93, coef_94, coef_95, coef_96, coef_97, coef_98, ...]\n",
       "Index: []\n",
       "\n",
       "[0 rows x 161 columns]"
      ]
     },
     "execution_count": 93,
     "metadata": {},
     "output_type": "execute_result"
    }
   ],
   "source": [
    "#  initiate a new dataframe , empty to append\n",
    "df= pd.DataFrame(columns = col_names)\n",
    "df.head()"
   ]
  },
  {
   "cell_type": "markdown",
   "metadata": {},
   "source": [
    "class sklearn.linear_model.Lasso(alpha=1.0, fit_intercept=True, normalize=False, precompute=False, copy_X=True, max_iter=1000, tol=0.0001, warm_start=False, positive=False, random_state=None, selection=’cyclic’)\n",
    "\n",
    "class sklearn.linear_model.Ridge(alpha=1.0, fit_intercept=True, normalize=False, copy_X=True, max_iter=None, tol=0.001, solver=’auto’, random_state=None)"
   ]
  },
  {
   "cell_type": "code",
   "execution_count": 94,
   "metadata": {},
   "outputs": [
    {
     "name": "stderr",
     "output_type": "stream",
     "text": [
      "\n",
      "\n",
      "  0%|          | 0/2 [00:00<?, ?it/s]\u001b[A\u001b[A"
     ]
    },
    {
     "name": "stdout",
     "output_type": "stream",
     "text": [
      "model type:  Lasso\n",
      "alpha is:  5.0\n"
     ]
    },
    {
     "name": "stderr",
     "output_type": "stream",
     "text": [
      "/NFS/home/home1/twang12/miniconda3/lib/python3.6/site-packages/sklearn/linear_model/coordinate_descent.py:491: ConvergenceWarning: Objective did not converge. You might want to increase the number of iterations. Fitting data with very small alpha may cause precision problems.\n",
      "  ConvergenceWarning)\n"
     ]
    },
    {
     "name": "stdout",
     "output_type": "stream",
     "text": [
      "MSE score(testing): 1723975376.9\n",
      "MAE score(testing): 27632.5096329\n",
      "alpha is:  2.0\n",
      "MSE score(testing): 1723974337.36\n",
      "MAE score(testing): 27637.2593482\n",
      "alpha is:  1.0\n",
      "MSE score(testing): 1723980238.59\n",
      "MAE score(testing): 27638.9150854\n",
      "alpha is:  0.1\n"
     ]
    },
    {
     "name": "stderr",
     "output_type": "stream",
     "text": [
      "\n",
      "\n",
      " 50%|█████     | 1/2 [33:47<33:47, 2027.44s/it]\u001b[A\u001b[A"
     ]
    },
    {
     "name": "stdout",
     "output_type": "stream",
     "text": [
      "MSE score(testing): 1723988682.34\n",
      "MAE score(testing): 27640.5121801\n",
      "model type:  Ridge\n",
      "alpha is:  5.0\n",
      "MSE score(testing): 1702334474.37\n",
      "MAE score(testing): 27270.2582019\n",
      "alpha is:  2.0\n",
      "MSE score(testing): 1702334611.15\n",
      "MAE score(testing): 27270.271525\n",
      "alpha is:  1.0\n",
      "MSE score(testing): 1702334657.33\n",
      "MAE score(testing): 27270.2759816\n",
      "alpha is:  0.1\n"
     ]
    },
    {
     "name": "stderr",
     "output_type": "stream",
     "text": [
      "/NFS/home/home1/twang12/miniconda3/lib/python3.6/site-packages/sklearn/linear_model/ridge.py:112: LinAlgWarning: scipy.linalg.solve\n",
      "Ill-conditioned matrix detected. Result is not guaranteed to be accurate.\n",
      "Reciprocal condition number8.123693e-17\n",
      "  overwrite_a=True).T\n",
      "\n",
      "\n",
      "100%|██████████| 2/2 [34:35<00:00, 1037.66s/it]\u001b[A\u001b[A\n",
      "\n",
      "\u001b[A\u001b[A"
     ]
    },
    {
     "name": "stdout",
     "output_type": "stream",
     "text": [
      "MSE score(testing): 1702334699.15\n",
      "MAE score(testing): 27270.2800063\n"
     ]
    }
   ],
   "source": [
    "from sklearn import metrics\n",
    "for test_type in tqdm(mod_type):\n",
    "    print('model type: ',test_type)\n",
    "    for alph in test_alph:\n",
    "        print('alpha is: ', alph)\n",
    "        if test_type == 'Lasso': \n",
    "            model = linear_model.Lasso(alpha=alph, fit_intercept=fit_int, normalize=norm, precompute=Precomp, copy_X=copyX, max_iter=1000, random_state=r_stat, selection='cyclic')\n",
    "        if test_type == 'Ridge': \n",
    "            model = linear_model.Ridge(alpha=alph, fit_intercept=fit_int, normalize=norm, copy_X= copyX, max_iter= max_itr, tol= tolerance, solver= solv, random_state=r_stat)\n",
    "        model.fit(X_train,y_train)\n",
    "        # save coefficients\n",
    "        tmp_row=[test_type,alph]+list(model.coef_)+[model.intercept_]\n",
    "        df.loc[len(df)]=tmp_row\n",
    "        y_test_pred = model.predict(X_test)\n",
    "\n",
    "        print('MSE score(testing):',metrics.mean_squared_error(y_test, y_test_pred))\n",
    "        print('MAE score(testing):',metrics.mean_absolute_error(y_test, y_test_pred))"
   ]
  },
  {
   "cell_type": "code",
   "execution_count": 95,
   "metadata": {},
   "outputs": [
    {
     "data": {
      "text/html": [
       "<div>\n",
       "<style scoped>\n",
       "    .dataframe tbody tr th:only-of-type {\n",
       "        vertical-align: middle;\n",
       "    }\n",
       "\n",
       "    .dataframe tbody tr th {\n",
       "        vertical-align: top;\n",
       "    }\n",
       "\n",
       "    .dataframe thead th {\n",
       "        text-align: right;\n",
       "    }\n",
       "</style>\n",
       "<table border=\"1\" class=\"dataframe\">\n",
       "  <thead>\n",
       "    <tr style=\"text-align: right;\">\n",
       "      <th></th>\n",
       "      <th>model_type</th>\n",
       "      <th>alpha</th>\n",
       "      <th>coef_1</th>\n",
       "      <th>coef_2</th>\n",
       "      <th>coef_3</th>\n",
       "      <th>coef_4</th>\n",
       "      <th>coef_5</th>\n",
       "      <th>coef_6</th>\n",
       "      <th>coef_7</th>\n",
       "      <th>coef_8</th>\n",
       "      <th>...</th>\n",
       "      <th>coef_150</th>\n",
       "      <th>coef_151</th>\n",
       "      <th>coef_152</th>\n",
       "      <th>coef_153</th>\n",
       "      <th>coef_154</th>\n",
       "      <th>coef_155</th>\n",
       "      <th>coef_156</th>\n",
       "      <th>coef_157</th>\n",
       "      <th>coef_158</th>\n",
       "      <th>intercept</th>\n",
       "    </tr>\n",
       "  </thead>\n",
       "  <tbody>\n",
       "    <tr>\n",
       "      <th>0</th>\n",
       "      <td>Lasso</td>\n",
       "      <td>5.0</td>\n",
       "      <td>-129.096329</td>\n",
       "      <td>-3381.508762</td>\n",
       "      <td>33.897681</td>\n",
       "      <td>0.378656</td>\n",
       "      <td>12006.857528</td>\n",
       "      <td>1773.737877</td>\n",
       "      <td>-427.939799</td>\n",
       "      <td>1435.067699</td>\n",
       "      <td>...</td>\n",
       "      <td>102.696685</td>\n",
       "      <td>-12385.630952</td>\n",
       "      <td>-153.353397</td>\n",
       "      <td>-8454.194363</td>\n",
       "      <td>12.033208</td>\n",
       "      <td>35.443705</td>\n",
       "      <td>9.383066</td>\n",
       "      <td>-476.490795</td>\n",
       "      <td>3387.200112</td>\n",
       "      <td>0.0</td>\n",
       "    </tr>\n",
       "    <tr>\n",
       "      <th>1</th>\n",
       "      <td>Lasso</td>\n",
       "      <td>2.0</td>\n",
       "      <td>-128.442279</td>\n",
       "      <td>-3370.127547</td>\n",
       "      <td>34.011989</td>\n",
       "      <td>0.378325</td>\n",
       "      <td>12846.062426</td>\n",
       "      <td>1829.010908</td>\n",
       "      <td>-427.384688</td>\n",
       "      <td>1454.280056</td>\n",
       "      <td>...</td>\n",
       "      <td>103.943539</td>\n",
       "      <td>-12542.367863</td>\n",
       "      <td>-154.308600</td>\n",
       "      <td>-8612.272278</td>\n",
       "      <td>12.047360</td>\n",
       "      <td>36.803899</td>\n",
       "      <td>9.275880</td>\n",
       "      <td>-476.185840</td>\n",
       "      <td>3389.340575</td>\n",
       "      <td>0.0</td>\n",
       "    </tr>\n",
       "    <tr>\n",
       "      <th>2</th>\n",
       "      <td>Lasso</td>\n",
       "      <td>1.0</td>\n",
       "      <td>-128.226871</td>\n",
       "      <td>-3366.289761</td>\n",
       "      <td>34.050367</td>\n",
       "      <td>0.378213</td>\n",
       "      <td>13126.531123</td>\n",
       "      <td>1847.422765</td>\n",
       "      <td>-427.182280</td>\n",
       "      <td>1460.753826</td>\n",
       "      <td>...</td>\n",
       "      <td>104.358752</td>\n",
       "      <td>-12594.579629</td>\n",
       "      <td>-154.631947</td>\n",
       "      <td>-8664.919261</td>\n",
       "      <td>12.052074</td>\n",
       "      <td>37.256330</td>\n",
       "      <td>9.240041</td>\n",
       "      <td>-476.072162</td>\n",
       "      <td>3390.076541</td>\n",
       "      <td>0.0</td>\n",
       "    </tr>\n",
       "    <tr>\n",
       "      <th>3</th>\n",
       "      <td>Lasso</td>\n",
       "      <td>0.1</td>\n",
       "      <td>-128.046352</td>\n",
       "      <td>-3362.490533</td>\n",
       "      <td>34.085953</td>\n",
       "      <td>0.378104</td>\n",
       "      <td>13379.083225</td>\n",
       "      <td>1863.453787</td>\n",
       "      <td>-426.957372</td>\n",
       "      <td>1466.225885</td>\n",
       "      <td>...</td>\n",
       "      <td>104.731931</td>\n",
       "      <td>-12641.541551</td>\n",
       "      <td>-154.928740</td>\n",
       "      <td>-8712.260398</td>\n",
       "      <td>12.056325</td>\n",
       "      <td>37.661250</td>\n",
       "      <td>9.207685</td>\n",
       "      <td>-475.968669</td>\n",
       "      <td>3390.744467</td>\n",
       "      <td>0.0</td>\n",
       "    </tr>\n",
       "    <tr>\n",
       "      <th>4</th>\n",
       "      <td>Ridge</td>\n",
       "      <td>5.0</td>\n",
       "      <td>-118.618713</td>\n",
       "      <td>-2330.225184</td>\n",
       "      <td>33.053368</td>\n",
       "      <td>0.394281</td>\n",
       "      <td>9621.503720</td>\n",
       "      <td>658.781867</td>\n",
       "      <td>-287.663778</td>\n",
       "      <td>888.020142</td>\n",
       "      <td>...</td>\n",
       "      <td>102.744501</td>\n",
       "      <td>-11965.428639</td>\n",
       "      <td>-79.073643</td>\n",
       "      <td>-9479.273466</td>\n",
       "      <td>12.357206</td>\n",
       "      <td>48.205308</td>\n",
       "      <td>1525.800994</td>\n",
       "      <td>-524.394567</td>\n",
       "      <td>2805.037891</td>\n",
       "      <td>0.0</td>\n",
       "    </tr>\n",
       "    <tr>\n",
       "      <th>5</th>\n",
       "      <td>Ridge</td>\n",
       "      <td>2.0</td>\n",
       "      <td>-118.617652</td>\n",
       "      <td>-2330.248393</td>\n",
       "      <td>33.053049</td>\n",
       "      <td>0.394287</td>\n",
       "      <td>9624.148304</td>\n",
       "      <td>658.832849</td>\n",
       "      <td>-287.671902</td>\n",
       "      <td>888.006031</td>\n",
       "      <td>...</td>\n",
       "      <td>102.751623</td>\n",
       "      <td>-11966.321773</td>\n",
       "      <td>-79.093251</td>\n",
       "      <td>-9479.990300</td>\n",
       "      <td>12.357273</td>\n",
       "      <td>48.218413</td>\n",
       "      <td>1525.792194</td>\n",
       "      <td>-524.440171</td>\n",
       "      <td>2805.004337</td>\n",
       "      <td>0.0</td>\n",
       "    </tr>\n",
       "    <tr>\n",
       "      <th>6</th>\n",
       "      <td>Ridge</td>\n",
       "      <td>1.0</td>\n",
       "      <td>-118.617299</td>\n",
       "      <td>-2330.256137</td>\n",
       "      <td>33.052942</td>\n",
       "      <td>0.394289</td>\n",
       "      <td>9625.030009</td>\n",
       "      <td>658.849845</td>\n",
       "      <td>-287.674613</td>\n",
       "      <td>888.001318</td>\n",
       "      <td>...</td>\n",
       "      <td>102.753998</td>\n",
       "      <td>-11966.619541</td>\n",
       "      <td>-79.099796</td>\n",
       "      <td>-9480.229316</td>\n",
       "      <td>12.357296</td>\n",
       "      <td>48.222787</td>\n",
       "      <td>1525.789264</td>\n",
       "      <td>-524.455394</td>\n",
       "      <td>2804.993132</td>\n",
       "      <td>0.0</td>\n",
       "    </tr>\n",
       "    <tr>\n",
       "      <th>7</th>\n",
       "      <td>Ridge</td>\n",
       "      <td>0.1</td>\n",
       "      <td>-118.616981</td>\n",
       "      <td>-2330.263110</td>\n",
       "      <td>33.052847</td>\n",
       "      <td>0.394291</td>\n",
       "      <td>9625.823619</td>\n",
       "      <td>658.865143</td>\n",
       "      <td>-287.677054</td>\n",
       "      <td>887.997073</td>\n",
       "      <td>...</td>\n",
       "      <td>102.756135</td>\n",
       "      <td>-11966.887555</td>\n",
       "      <td>-79.105691</td>\n",
       "      <td>-9480.444460</td>\n",
       "      <td>12.357316</td>\n",
       "      <td>48.226725</td>\n",
       "      <td>1525.786623</td>\n",
       "      <td>-524.469105</td>\n",
       "      <td>2804.983039</td>\n",
       "      <td>0.0</td>\n",
       "    </tr>\n",
       "  </tbody>\n",
       "</table>\n",
       "<p>8 rows × 161 columns</p>\n",
       "</div>"
      ],
      "text/plain": [
       "  model_type  alpha      coef_1       coef_2     coef_3    coef_4  \\\n",
       "0      Lasso    5.0 -129.096329 -3381.508762  33.897681  0.378656   \n",
       "1      Lasso    2.0 -128.442279 -3370.127547  34.011989  0.378325   \n",
       "2      Lasso    1.0 -128.226871 -3366.289761  34.050367  0.378213   \n",
       "3      Lasso    0.1 -128.046352 -3362.490533  34.085953  0.378104   \n",
       "4      Ridge    5.0 -118.618713 -2330.225184  33.053368  0.394281   \n",
       "5      Ridge    2.0 -118.617652 -2330.248393  33.053049  0.394287   \n",
       "6      Ridge    1.0 -118.617299 -2330.256137  33.052942  0.394289   \n",
       "7      Ridge    0.1 -118.616981 -2330.263110  33.052847  0.394291   \n",
       "\n",
       "         coef_5       coef_6      coef_7       coef_8    ...        coef_150  \\\n",
       "0  12006.857528  1773.737877 -427.939799  1435.067699    ...      102.696685   \n",
       "1  12846.062426  1829.010908 -427.384688  1454.280056    ...      103.943539   \n",
       "2  13126.531123  1847.422765 -427.182280  1460.753826    ...      104.358752   \n",
       "3  13379.083225  1863.453787 -426.957372  1466.225885    ...      104.731931   \n",
       "4   9621.503720   658.781867 -287.663778   888.020142    ...      102.744501   \n",
       "5   9624.148304   658.832849 -287.671902   888.006031    ...      102.751623   \n",
       "6   9625.030009   658.849845 -287.674613   888.001318    ...      102.753998   \n",
       "7   9625.823619   658.865143 -287.677054   887.997073    ...      102.756135   \n",
       "\n",
       "       coef_151    coef_152     coef_153   coef_154   coef_155     coef_156  \\\n",
       "0 -12385.630952 -153.353397 -8454.194363  12.033208  35.443705     9.383066   \n",
       "1 -12542.367863 -154.308600 -8612.272278  12.047360  36.803899     9.275880   \n",
       "2 -12594.579629 -154.631947 -8664.919261  12.052074  37.256330     9.240041   \n",
       "3 -12641.541551 -154.928740 -8712.260398  12.056325  37.661250     9.207685   \n",
       "4 -11965.428639  -79.073643 -9479.273466  12.357206  48.205308  1525.800994   \n",
       "5 -11966.321773  -79.093251 -9479.990300  12.357273  48.218413  1525.792194   \n",
       "6 -11966.619541  -79.099796 -9480.229316  12.357296  48.222787  1525.789264   \n",
       "7 -11966.887555  -79.105691 -9480.444460  12.357316  48.226725  1525.786623   \n",
       "\n",
       "     coef_157     coef_158  intercept  \n",
       "0 -476.490795  3387.200112        0.0  \n",
       "1 -476.185840  3389.340575        0.0  \n",
       "2 -476.072162  3390.076541        0.0  \n",
       "3 -475.968669  3390.744467        0.0  \n",
       "4 -524.394567  2805.037891        0.0  \n",
       "5 -524.440171  2805.004337        0.0  \n",
       "6 -524.455394  2804.993132        0.0  \n",
       "7 -524.469105  2804.983039        0.0  \n",
       "\n",
       "[8 rows x 161 columns]"
      ]
     },
     "execution_count": 95,
     "metadata": {},
     "output_type": "execute_result"
    }
   ],
   "source": [
    "df"
   ]
  },
  {
   "cell_type": "code",
   "execution_count": 76,
   "metadata": {},
   "outputs": [],
   "source": [
    "# save the coefficients to a csv"
   ]
  },
  {
   "cell_type": "code",
   "execution_count": 96,
   "metadata": {},
   "outputs": [],
   "source": [
    "df.to_csv('LR_models_param_saveout.csv')"
   ]
  },
  {
   "cell_type": "code",
   "execution_count": 131,
   "metadata": {},
   "outputs": [],
   "source": [
    "# Compare prediction and the calculated y_predict from coeficients\n",
    "def cal_pred(X_input,coefs,intcpt):\n",
    "    \"\"\" X_input is a dataframe input with only attributes used in model fit \"\"\"\n",
    "    import numpy as np\n",
    "    import pandas as pd\n",
    "    from tqdm import tqdm\n",
    "    nrows = len(X_input)\n",
    "    b = np.array(coefs)\n",
    "    y_pred = np.zeros(nrows)\n",
    "    for i in tqdm(range(nrows)):\n",
    "        x=np.array(X_input.iloc[i])\n",
    "        y_pred[i]=intcpt+np.multiply(x,b).sum()\n",
    "    return y_pred    "
   ]
  },
  {
   "cell_type": "code",
   "execution_count": 132,
   "metadata": {},
   "outputs": [],
   "source": [
    "cal_y_pred = cal_pred(X_test,model.coef_,model.intercept_)"
   ]
  },
  {
   "cell_type": "raw",
   "metadata": {},
   "source": [
    "y_test_pred = model.predict(X_test)"
   ]
  },
  {
   "cell_type": "code",
   "execution_count": 133,
   "metadata": {},
   "outputs": [
    {
     "name": "stdout",
     "output_type": "stream",
     "text": [
      "(2145493,)\n",
      "(2145493,)\n"
     ]
    }
   ],
   "source": [
    "print(cal_y_pred.shape)\n",
    "print(y_test_pred.shape)"
   ]
  },
  {
   "cell_type": "code",
   "execution_count": 136,
   "metadata": {},
   "outputs": [
    {
     "data": {
      "image/png": "[encoded data removed]",
      "text/plain": [
       "<Figure size 432x288 with 1 Axes>"
      ]
     },
     "metadata": {},
     "output_type": "display_data"
    }
   ],
   "source": [
    "import matplotlib.pyplot as plt\n",
    "plt.scatter(cal_y_pred,y_test_pred)\n",
    "plt.show()"
   ]
  },
  {
   "cell_type": "code",
   "execution_count": null,
   "metadata": {},
   "outputs": [],
   "source": []
  }
 ],
 "metadata": {
  "kernelspec": {
   "display_name": "Python 3",
   "language": "python",
   "name": "python3"
  },
  "language_info": {
   "codemirror_mode": {
    "name": "ipython",
    "version": 3
   },
   "file_extension": ".py",
   "mimetype": "text/x-python",
   "name": "python",
   "nbconvert_exporter": "python",
   "pygments_lexer": "ipython3",
   "version": "3.6.5"
  }
 },
 "nbformat": 4,
 "nbformat_minor": 2
}

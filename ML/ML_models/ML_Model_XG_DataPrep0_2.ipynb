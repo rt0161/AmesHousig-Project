{
 "cells": [
  {
   "cell_type": "code",
   "execution_count": 2,
   "metadata": {},
   "outputs": [],
   "source": [
    "import pandas as pd\n",
    "import numpy as np"
   ]
  },
  {
   "cell_type": "code",
   "execution_count": 5,
   "metadata": {},
   "outputs": [],
   "source": [
    "X_2house = pd.read_csv('/wgdisk/ho0338/ek79/Tien/X_2house_v2.csv')\n",
    "X_2house=X_2house.drop(columns=['Unnamed: 0'])\n",
    "X_2house.index.rename('Order', inplace=True)"
   ]
  },
  {
   "cell_type": "code",
   "execution_count": 6,
   "metadata": {},
   "outputs": [],
   "source": [
    "y_2house = np.load('y_2house.npy')"
   ]
  },
  {
   "cell_type": "markdown",
   "metadata": {},
   "source": [
    "## preparing the data input to ML "
   ]
  },
  {
   "cell_type": "code",
   "execution_count": 18,
   "metadata": {},
   "outputs": [],
   "source": [
    "# load the saved csv\n",
    "# !head -10 /wgdisk/ho0331/ek79/Tien_DS/X_2house.csv\n",
    "# X_2house = pd.read_csv('/wgdisk/ho0331/ek79/Tien_DS/X_2house.csv')"
   ]
  },
  {
   "cell_type": "code",
   "execution_count": 7,
   "metadata": {},
   "outputs": [
    {
     "data": {
      "text/html": [
       "<div>\n",
       "<style scoped>\n",
       "    .dataframe tbody tr th:only-of-type {\n",
       "        vertical-align: middle;\n",
       "    }\n",
       "\n",
       "    .dataframe tbody tr th {\n",
       "        vertical-align: top;\n",
       "    }\n",
       "\n",
       "    .dataframe thead th {\n",
       "        text-align: right;\n",
       "    }\n",
       "</style>\n",
       "<table border=\"1\" class=\"dataframe\">\n",
       "  <thead>\n",
       "    <tr style=\"text-align: right;\">\n",
       "      <th></th>\n",
       "      <th>MS SubClass</th>\n",
       "      <th>MS Zoning</th>\n",
       "      <th>Lot Frontage</th>\n",
       "      <th>Lot Area</th>\n",
       "      <th>Street</th>\n",
       "      <th>Alley</th>\n",
       "      <th>Lot Shape</th>\n",
       "      <th>Land Contour</th>\n",
       "      <th>Utilities</th>\n",
       "      <th>Lot Config</th>\n",
       "      <th>...</th>\n",
       "      <th>Misc Val_2</th>\n",
       "      <th>Mo Sold_2</th>\n",
       "      <th>Yr Sold_2</th>\n",
       "      <th>Sale Type_2</th>\n",
       "      <th>Sale Condition_2</th>\n",
       "      <th>Bsmt Bath_2</th>\n",
       "      <th>Total Bath_2</th>\n",
       "      <th>Porch SF_2</th>\n",
       "      <th>Total House SF_2</th>\n",
       "      <th>Sold Time_2</th>\n",
       "    </tr>\n",
       "    <tr>\n",
       "      <th>Order</th>\n",
       "      <th></th>\n",
       "      <th></th>\n",
       "      <th></th>\n",
       "      <th></th>\n",
       "      <th></th>\n",
       "      <th></th>\n",
       "      <th></th>\n",
       "      <th></th>\n",
       "      <th></th>\n",
       "      <th></th>\n",
       "      <th></th>\n",
       "      <th></th>\n",
       "      <th></th>\n",
       "      <th></th>\n",
       "      <th></th>\n",
       "      <th></th>\n",
       "      <th></th>\n",
       "      <th></th>\n",
       "      <th></th>\n",
       "      <th></th>\n",
       "      <th></th>\n",
       "    </tr>\n",
       "  </thead>\n",
       "  <tbody>\n",
       "    <tr>\n",
       "      <th>0</th>\n",
       "      <td>20.0</td>\n",
       "      <td>4.0</td>\n",
       "      <td>141.0</td>\n",
       "      <td>31770.0</td>\n",
       "      <td>1.0</td>\n",
       "      <td>1.0</td>\n",
       "      <td>0.0</td>\n",
       "      <td>3.0</td>\n",
       "      <td>4.0</td>\n",
       "      <td>0.0</td>\n",
       "      <td>...</td>\n",
       "      <td>0.0</td>\n",
       "      <td>6.0</td>\n",
       "      <td>2010.0</td>\n",
       "      <td>0.0</td>\n",
       "      <td>3.0</td>\n",
       "      <td>0.000000</td>\n",
       "      <td>1.0</td>\n",
       "      <td>0.041096</td>\n",
       "      <td>2920.0</td>\n",
       "      <td>54.0</td>\n",
       "    </tr>\n",
       "    <tr>\n",
       "      <th>1</th>\n",
       "      <td>20.0</td>\n",
       "      <td>4.0</td>\n",
       "      <td>141.0</td>\n",
       "      <td>31770.0</td>\n",
       "      <td>1.0</td>\n",
       "      <td>1.0</td>\n",
       "      <td>0.0</td>\n",
       "      <td>3.0</td>\n",
       "      <td>4.0</td>\n",
       "      <td>0.0</td>\n",
       "      <td>...</td>\n",
       "      <td>12500.0</td>\n",
       "      <td>6.0</td>\n",
       "      <td>2010.0</td>\n",
       "      <td>0.0</td>\n",
       "      <td>3.0</td>\n",
       "      <td>0.000000</td>\n",
       "      <td>1.5</td>\n",
       "      <td>0.008086</td>\n",
       "      <td>4452.0</td>\n",
       "      <td>54.0</td>\n",
       "    </tr>\n",
       "    <tr>\n",
       "      <th>2</th>\n",
       "      <td>20.0</td>\n",
       "      <td>4.0</td>\n",
       "      <td>141.0</td>\n",
       "      <td>31770.0</td>\n",
       "      <td>1.0</td>\n",
       "      <td>1.0</td>\n",
       "      <td>0.0</td>\n",
       "      <td>3.0</td>\n",
       "      <td>4.0</td>\n",
       "      <td>0.0</td>\n",
       "      <td>...</td>\n",
       "      <td>0.0</td>\n",
       "      <td>4.0</td>\n",
       "      <td>2010.0</td>\n",
       "      <td>0.0</td>\n",
       "      <td>3.0</td>\n",
       "      <td>0.285714</td>\n",
       "      <td>3.5</td>\n",
       "      <td>0.000000</td>\n",
       "      <td>6330.0</td>\n",
       "      <td>52.0</td>\n",
       "    </tr>\n",
       "    <tr>\n",
       "      <th>3</th>\n",
       "      <td>20.0</td>\n",
       "      <td>4.0</td>\n",
       "      <td>141.0</td>\n",
       "      <td>31770.0</td>\n",
       "      <td>1.0</td>\n",
       "      <td>1.0</td>\n",
       "      <td>0.0</td>\n",
       "      <td>3.0</td>\n",
       "      <td>4.0</td>\n",
       "      <td>0.0</td>\n",
       "      <td>...</td>\n",
       "      <td>0.0</td>\n",
       "      <td>3.0</td>\n",
       "      <td>2010.0</td>\n",
       "      <td>0.0</td>\n",
       "      <td>3.0</td>\n",
       "      <td>0.000000</td>\n",
       "      <td>2.5</td>\n",
       "      <td>0.009031</td>\n",
       "      <td>3765.0</td>\n",
       "      <td>51.0</td>\n",
       "    </tr>\n",
       "    <tr>\n",
       "      <th>4</th>\n",
       "      <td>20.0</td>\n",
       "      <td>4.0</td>\n",
       "      <td>141.0</td>\n",
       "      <td>31770.0</td>\n",
       "      <td>1.0</td>\n",
       "      <td>1.0</td>\n",
       "      <td>0.0</td>\n",
       "      <td>3.0</td>\n",
       "      <td>4.0</td>\n",
       "      <td>0.0</td>\n",
       "      <td>...</td>\n",
       "      <td>0.0</td>\n",
       "      <td>6.0</td>\n",
       "      <td>2010.0</td>\n",
       "      <td>0.0</td>\n",
       "      <td>3.0</td>\n",
       "      <td>0.000000</td>\n",
       "      <td>2.5</td>\n",
       "      <td>0.009259</td>\n",
       "      <td>3888.0</td>\n",
       "      <td>54.0</td>\n",
       "    </tr>\n",
       "  </tbody>\n",
       "</table>\n",
       "<p>5 rows × 168 columns</p>\n",
       "</div>"
      ],
      "text/plain": [
       "       MS SubClass  MS Zoning  Lot Frontage  Lot Area  Street  Alley  \\\n",
       "Order                                                                  \n",
       "0             20.0        4.0         141.0   31770.0     1.0    1.0   \n",
       "1             20.0        4.0         141.0   31770.0     1.0    1.0   \n",
       "2             20.0        4.0         141.0   31770.0     1.0    1.0   \n",
       "3             20.0        4.0         141.0   31770.0     1.0    1.0   \n",
       "4             20.0        4.0         141.0   31770.0     1.0    1.0   \n",
       "\n",
       "       Lot Shape  Land Contour  Utilities  Lot Config     ...       \\\n",
       "Order                                                     ...        \n",
       "0            0.0           3.0        4.0         0.0     ...        \n",
       "1            0.0           3.0        4.0         0.0     ...        \n",
       "2            0.0           3.0        4.0         0.0     ...        \n",
       "3            0.0           3.0        4.0         0.0     ...        \n",
       "4            0.0           3.0        4.0         0.0     ...        \n",
       "\n",
       "       Misc Val_2  Mo Sold_2  Yr Sold_2  Sale Type_2  Sale Condition_2  \\\n",
       "Order                                                                    \n",
       "0             0.0        6.0     2010.0          0.0               3.0   \n",
       "1         12500.0        6.0     2010.0          0.0               3.0   \n",
       "2             0.0        4.0     2010.0          0.0               3.0   \n",
       "3             0.0        3.0     2010.0          0.0               3.0   \n",
       "4             0.0        6.0     2010.0          0.0               3.0   \n",
       "\n",
       "       Bsmt Bath_2  Total Bath_2  Porch SF_2  Total House SF_2  Sold Time_2  \n",
       "Order                                                                        \n",
       "0         0.000000           1.0    0.041096            2920.0         54.0  \n",
       "1         0.000000           1.5    0.008086            4452.0         54.0  \n",
       "2         0.285714           3.5    0.000000            6330.0         52.0  \n",
       "3         0.000000           2.5    0.009031            3765.0         51.0  \n",
       "4         0.000000           2.5    0.009259            3888.0         54.0  \n",
       "\n",
       "[5 rows x 168 columns]"
      ]
     },
     "execution_count": 7,
     "metadata": {},
     "output_type": "execute_result"
    }
   ],
   "source": [
    "X_2house.head()"
   ]
  },
  {
   "cell_type": "code",
   "execution_count": 8,
   "metadata": {},
   "outputs": [
    {
     "name": "stdout",
     "output_type": "stream",
     "text": [
      "dimension of X_2house: (4290985, 168)\n",
      "dimension of y_2House: (4290985,)\n",
      "Index(['MS SubClass', 'MS Zoning', 'Lot Frontage', 'Lot Area', 'Street',\n",
      "       'Alley', 'Lot Shape', 'Land Contour', 'Utilities', 'Lot Config',\n",
      "       ...\n",
      "       'Misc Val_2', 'Mo Sold_2', 'Yr Sold_2', 'Sale Type_2',\n",
      "       'Sale Condition_2', 'Bsmt Bath_2', 'Total Bath_2', 'Porch SF_2',\n",
      "       'Total House SF_2', 'Sold Time_2'],\n",
      "      dtype='object', length=168)\n"
     ]
    }
   ],
   "source": [
    "print('dimension of X_2house:',X_2house.shape)\n",
    "print('dimension of y_2House:',y_2house.shape)\n",
    "print(X_2house.columns)"
   ]
  },
  {
   "cell_type": "markdown",
   "metadata": {},
   "source": [
    "### Set up the train-test split in sklearn"
   ]
  },
  {
   "cell_type": "code",
   "execution_count": 9,
   "metadata": {},
   "outputs": [],
   "source": [
    "from sklearn.model_selection import train_test_split\n",
    "X_train, X_test, y_train, y_test = train_test_split(X_2house, y_2house, test_size=0.5, random_state=12)"
   ]
  },
  {
   "cell_type": "code",
   "execution_count": 10,
   "metadata": {},
   "outputs": [
    {
     "name": "stdout",
     "output_type": "stream",
     "text": [
      "(2145492, 168)\n",
      "(2145492,)\n",
      "(2145493, 168)\n",
      "(2145493,)\n"
     ]
    }
   ],
   "source": [
    "print(X_train.shape)\n",
    "print(y_train.shape)\n",
    "print(X_test.shape)\n",
    "print(y_test.shape)"
   ]
  },
  {
   "cell_type": "code",
   "execution_count": 13,
   "metadata": {},
   "outputs": [
    {
     "name": "stdout",
     "output_type": "stream",
     "text": [
      "<class 'pandas.core.frame.DataFrame'>\n"
     ]
    },
    {
     "data": {
      "text/html": [
       "<div>\n",
       "<style scoped>\n",
       "    .dataframe tbody tr th:only-of-type {\n",
       "        vertical-align: middle;\n",
       "    }\n",
       "\n",
       "    .dataframe tbody tr th {\n",
       "        vertical-align: top;\n",
       "    }\n",
       "\n",
       "    .dataframe thead th {\n",
       "        text-align: right;\n",
       "    }\n",
       "</style>\n",
       "<table border=\"1\" class=\"dataframe\">\n",
       "  <thead>\n",
       "    <tr style=\"text-align: right;\">\n",
       "      <th></th>\n",
       "      <th>Condition 2</th>\n",
       "      <th>Year Remod/Add</th>\n",
       "      <th>Exter Qual</th>\n",
       "      <th>Bsmt Unf SF</th>\n",
       "      <th>1st Flr SF</th>\n",
       "      <th>2nd Flr SF</th>\n",
       "      <th>Gr Liv Area</th>\n",
       "      <th>BsmtFin Type 2</th>\n",
       "      <th>Bsmt Unf SF</th>\n",
       "      <th>Full Bath</th>\n",
       "      <th>...</th>\n",
       "      <th>Bsmt Unf SF_2</th>\n",
       "      <th>Full Bath_2</th>\n",
       "      <th>Half Bath_2</th>\n",
       "      <th>Kitchen AbvGr_2</th>\n",
       "      <th>Garage Cond_2</th>\n",
       "      <th>Garage Cars_2</th>\n",
       "      <th>Wood Deck SF_2</th>\n",
       "      <th>Pool QC_2</th>\n",
       "      <th>Misc Feature_2</th>\n",
       "      <th>Sale Condition_2</th>\n",
       "    </tr>\n",
       "    <tr>\n",
       "      <th>Order</th>\n",
       "      <th></th>\n",
       "      <th></th>\n",
       "      <th></th>\n",
       "      <th></th>\n",
       "      <th></th>\n",
       "      <th></th>\n",
       "      <th></th>\n",
       "      <th></th>\n",
       "      <th></th>\n",
       "      <th></th>\n",
       "      <th></th>\n",
       "      <th></th>\n",
       "      <th></th>\n",
       "      <th></th>\n",
       "      <th></th>\n",
       "      <th></th>\n",
       "      <th></th>\n",
       "      <th></th>\n",
       "      <th></th>\n",
       "      <th></th>\n",
       "      <th></th>\n",
       "    </tr>\n",
       "  </thead>\n",
       "  <tbody>\n",
       "    <tr>\n",
       "      <th>221331</th>\n",
       "      <td>2.0</td>\n",
       "      <td>1992.0</td>\n",
       "      <td>4.0</td>\n",
       "      <td>1055.0</td>\n",
       "      <td>1055.0</td>\n",
       "      <td>790.0</td>\n",
       "      <td>1845.0</td>\n",
       "      <td>1.0</td>\n",
       "      <td>1055.0</td>\n",
       "      <td>2.0</td>\n",
       "      <td>...</td>\n",
       "      <td>356.0</td>\n",
       "      <td>2.0</td>\n",
       "      <td>0.0</td>\n",
       "      <td>1.0</td>\n",
       "      <td>3.0</td>\n",
       "      <td>2.0</td>\n",
       "      <td>240.0</td>\n",
       "      <td>-1.0</td>\n",
       "      <td>0.0</td>\n",
       "      <td>3.0</td>\n",
       "    </tr>\n",
       "    <tr>\n",
       "      <th>4201490</th>\n",
       "      <td>2.0</td>\n",
       "      <td>2005.0</td>\n",
       "      <td>3.0</td>\n",
       "      <td>600.0</td>\n",
       "      <td>520.0</td>\n",
       "      <td>600.0</td>\n",
       "      <td>1200.0</td>\n",
       "      <td>1.0</td>\n",
       "      <td>600.0</td>\n",
       "      <td>2.0</td>\n",
       "      <td>...</td>\n",
       "      <td>485.0</td>\n",
       "      <td>1.0</td>\n",
       "      <td>0.0</td>\n",
       "      <td>1.0</td>\n",
       "      <td>3.0</td>\n",
       "      <td>1.0</td>\n",
       "      <td>394.0</td>\n",
       "      <td>-1.0</td>\n",
       "      <td>0.0</td>\n",
       "      <td>3.0</td>\n",
       "    </tr>\n",
       "  </tbody>\n",
       "</table>\n",
       "<p>2 rows × 36 columns</p>\n",
       "</div>"
      ],
      "text/plain": [
       "         Condition 2  Year Remod/Add  Exter Qual  Bsmt Unf SF  1st Flr SF  \\\n",
       "Order                                                                       \n",
       "221331           2.0          1992.0         4.0       1055.0      1055.0   \n",
       "4201490          2.0          2005.0         3.0        600.0       520.0   \n",
       "\n",
       "         2nd Flr SF  Gr Liv Area  BsmtFin Type 2  Bsmt Unf SF  Full Bath  \\\n",
       "Order                                                                      \n",
       "221331        790.0       1845.0             1.0       1055.0        2.0   \n",
       "4201490       600.0       1200.0             1.0        600.0        2.0   \n",
       "\n",
       "               ...         Bsmt Unf SF_2  Full Bath_2  Half Bath_2  \\\n",
       "Order          ...                                                   \n",
       "221331         ...                 356.0          2.0          0.0   \n",
       "4201490        ...                 485.0          1.0          0.0   \n",
       "\n",
       "         Kitchen AbvGr_2  Garage Cond_2  Garage Cars_2  Wood Deck SF_2  \\\n",
       "Order                                                                    \n",
       "221331               1.0            3.0            2.0           240.0   \n",
       "4201490              1.0            3.0            1.0           394.0   \n",
       "\n",
       "         Pool QC_2  Misc Feature_2  Sale Condition_2  \n",
       "Order                                                 \n",
       "221331        -1.0             0.0               3.0  \n",
       "4201490       -1.0             0.0               3.0  \n",
       "\n",
       "[2 rows x 36 columns]"
      ]
     },
     "execution_count": 13,
     "metadata": {},
     "output_type": "execute_result"
    }
   ],
   "source": [
    "print(type(X_train))\n",
    "X_train.head(2)"
   ]
  },
  {
   "cell_type": "code",
   "execution_count": 14,
   "metadata": {},
   "outputs": [
    {
     "name": "stdout",
     "output_type": "stream",
     "text": [
      "[ -3350.  34000.]\n"
     ]
    }
   ],
   "source": [
    "print(y_train[0:2])"
   ]
  },
  {
   "cell_type": "markdown",
   "metadata": {},
   "source": [
    "### Set up the Xgboost model"
   ]
  },
  {
   "cell_type": "code",
   "execution_count": 11,
   "metadata": {},
   "outputs": [],
   "source": [
    "import xgboost as xgb\n",
    "xgdmat=xgb.DMatrix(X_train,y_train)"
   ]
  },
  {
   "cell_type": "code",
   "execution_count": 17,
   "metadata": {},
   "outputs": [],
   "source": [
    "my_params={'eta':0.1,'seed':12,'objective':'reg:linear','max_depth':4,'min_child_weight':2,'verbose_eval':True}"
   ]
  },
  {
   "cell_type": "code",
   "execution_count": 18,
   "metadata": {},
   "outputs": [],
   "source": [
    "Gb_model02=xgb.train(my_params,xgdmat)"
   ]
  },
  {
   "cell_type": "code",
   "execution_count": 19,
   "metadata": {},
   "outputs": [],
   "source": [
    "tesdmat=xgb.DMatrix(X_test)\n",
    "y_pred_test_xgb=Gb_model02.predict(tesdmat)\n",
    "traindmat=xgb.DMatrix(X_train)\n",
    "y_pred_train_xgb=Gb_model02.predict(traindmat)"
   ]
  },
  {
   "cell_type": "code",
   "execution_count": 20,
   "metadata": {},
   "outputs": [
    {
     "name": "stdout",
     "output_type": "stream",
     "text": [
      "10152.5 -3350.0\n",
      "24486.9 34000.0\n",
      "-8541.61 65500.0\n",
      "67561.2 106828.0\n",
      "7984.78 -6700.0\n",
      "31448.5 51500.0\n",
      "36856.1 134000.0\n",
      "67482.9 128500.0\n",
      "20275.7 17500.0\n",
      "-100694.0 -256000.0\n"
     ]
    }
   ],
   "source": [
    "for i in range(len(y_pred_train_xgb)):\n",
    "    if i < 10:\n",
    "        print(y_pred_train_xgb[i],y_train[i])"
   ]
  },
  {
   "cell_type": "code",
   "execution_count": 21,
   "metadata": {},
   "outputs": [
    {
     "name": "stdout",
     "output_type": "stream",
     "text": [
      "R^2 score(training): 0.684079307712\n",
      "R^2 score: 0.683656192682\n",
      "MSE score(training): 4025596552.18\n",
      "MAE score(training): 46087.7749493\n",
      "MSE score: 4039176818.95\n",
      "MAE score: 46161.5090654\n"
     ]
    }
   ],
   "source": [
    "# access several benchmark RMSE for reference:\n",
    "from sklearn import metrics\n",
    "print('R^2 score(training):',metrics.r2_score(y_train, y_pred_train_xgb))\n",
    "print('R^2 score:',metrics.r2_score(y_test, y_pred_test_xgb))\n",
    "print('MSE score(training):',metrics.mean_squared_error(y_train, y_pred_train_xgb))\n",
    "print('MAE score(training):',metrics.mean_absolute_error(y_train, y_pred_train_xgb))\n",
    "print('MSE score:',metrics.mean_squared_error(y_test, y_pred_test_xgb))\n",
    "print('MAE score:',metrics.mean_absolute_error(y_test, y_pred_test_xgb))"
   ]
  },
  {
   "cell_type": "code",
   "execution_count": 23,
   "metadata": {},
   "outputs": [
    {
     "data": {
      "image/png": "[encoded data removed]",
      "text/plain": [
       "<Figure size 432x288 with 1 Axes>"
      ]
     },
     "metadata": {},
     "output_type": "display_data"
    }
   ],
   "source": [
    "## Plotting the predicted price difference and the true price difference\n",
    "import matplotlib.pyplot as plt\n",
    "plt.scatter(y_pred_test_xgb,y_test, s=5)\n",
    "plt.title('test data prediction')\n",
    "plt.xlabel('predicted')\n",
    "plt.ylabel('true')\n",
    "plt.show()"
   ]
  },
  {
   "cell_type": "code",
   "execution_count": 24,
   "metadata": {},
   "outputs": [
    {
     "data": {
      "image/png": "[encoded data removed]",
      "text/plain": [
       "<Figure size 864x1584 with 1 Axes>"
      ]
     },
     "metadata": {},
     "output_type": "display_data"
    }
   ],
   "source": [
    "from xgboost import plot_importance\n",
    "fig, ax = plt.subplots(figsize=(12,22))\n",
    "xgb.plot_importance(Gb_model02, max_num_features=168, height=0.8, ax=ax)\n",
    "plt.show()"
   ]
  },
  {
   "cell_type": "code",
   "execution_count": null,
   "metadata": {},
   "outputs": [],
   "source": []
  }
 ],
 "metadata": {
  "kernelspec": {
   "display_name": "Python 3",
   "language": "python",
   "name": "python3"
  },
  "language_info": {
   "codemirror_mode": {
    "name": "ipython",
    "version": 3
   },
   "file_extension": ".py",
   "mimetype": "text/x-python",
   "name": "python",
   "nbconvert_exporter": "python",
   "pygments_lexer": "ipython3",
   "version": "3.6.5"
  }
 },
 "nbformat": 4,
 "nbformat_minor": 2
}

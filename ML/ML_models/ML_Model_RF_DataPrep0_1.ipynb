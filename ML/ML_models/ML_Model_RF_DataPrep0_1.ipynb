{
 "cells": [
  {
   "cell_type": "markdown",
   "metadata": {},
   "source": [
    "## This is the default cleaned data that is input to the Benchmark ML model : Linear regression + ver0 clean data"
   ]
  },
  {
   "cell_type": "code",
   "execution_count": 4,
   "metadata": {},
   "outputs": [],
   "source": [
    "import pandas as pd\n",
    "import numpy as np"
   ]
  },
  {
   "cell_type": "code",
   "execution_count": 5,
   "metadata": {},
   "outputs": [],
   "source": [
    "X_2house = pd.read_csv('/wgdisk/ho0338/ek79/Tien/X_2house_v0.csv')\n",
    "X_2house=X_2house.drop(columns=['Unnamed: 0'])\n",
    "X_2house.index.rename('Order', inplace=True)"
   ]
  },
  {
   "cell_type": "code",
   "execution_count": 6,
   "metadata": {},
   "outputs": [],
   "source": [
    "y_2house = np.load('y_2house.npy')"
   ]
  },
  {
   "cell_type": "markdown",
   "metadata": {},
   "source": [
    "## preparing the data input to ML "
   ]
  },
  {
   "cell_type": "code",
   "execution_count": 18,
   "metadata": {},
   "outputs": [],
   "source": [
    "# load the saved csv\n",
    "# !head -10 /wgdisk/ho0331/ek79/Tien_DS/X_2house.csv\n",
    "# X_2house = pd.read_csv('/wgdisk/ho0331/ek79/Tien_DS/X_2house.csv')"
   ]
  },
  {
   "cell_type": "code",
   "execution_count": 34,
   "metadata": {},
   "outputs": [
    {
     "data": {
      "text/html": [
       "<div>\n",
       "<style scoped>\n",
       "    .dataframe tbody tr th:only-of-type {\n",
       "        vertical-align: middle;\n",
       "    }\n",
       "\n",
       "    .dataframe tbody tr th {\n",
       "        vertical-align: top;\n",
       "    }\n",
       "\n",
       "    .dataframe thead th {\n",
       "        text-align: right;\n",
       "    }\n",
       "</style>\n",
       "<table border=\"1\" class=\"dataframe\">\n",
       "  <thead>\n",
       "    <tr style=\"text-align: right;\">\n",
       "      <th></th>\n",
       "      <th>Condition 2</th>\n",
       "      <th>Year Remod/Add</th>\n",
       "      <th>Exter Qual</th>\n",
       "      <th>Bsmt Unf SF</th>\n",
       "      <th>1st Flr SF</th>\n",
       "      <th>2nd Flr SF</th>\n",
       "      <th>Gr Liv Area</th>\n",
       "      <th>BsmtFin Type 2</th>\n",
       "      <th>Bsmt Unf SF</th>\n",
       "      <th>Full Bath</th>\n",
       "      <th>...</th>\n",
       "      <th>Bsmt Unf SF_2</th>\n",
       "      <th>Full Bath_2</th>\n",
       "      <th>Half Bath_2</th>\n",
       "      <th>Kitchen AbvGr_2</th>\n",
       "      <th>Garage Cond_2</th>\n",
       "      <th>Garage Cars_2</th>\n",
       "      <th>Wood Deck SF_2</th>\n",
       "      <th>Pool QC_2</th>\n",
       "      <th>Misc Feature_2</th>\n",
       "      <th>Sale Condition_2</th>\n",
       "    </tr>\n",
       "    <tr>\n",
       "      <th>Order</th>\n",
       "      <th></th>\n",
       "      <th></th>\n",
       "      <th></th>\n",
       "      <th></th>\n",
       "      <th></th>\n",
       "      <th></th>\n",
       "      <th></th>\n",
       "      <th></th>\n",
       "      <th></th>\n",
       "      <th></th>\n",
       "      <th></th>\n",
       "      <th></th>\n",
       "      <th></th>\n",
       "      <th></th>\n",
       "      <th></th>\n",
       "      <th></th>\n",
       "      <th></th>\n",
       "      <th></th>\n",
       "      <th></th>\n",
       "      <th></th>\n",
       "      <th></th>\n",
       "    </tr>\n",
       "  </thead>\n",
       "  <tbody>\n",
       "    <tr>\n",
       "      <th>0</th>\n",
       "      <td>2.0</td>\n",
       "      <td>1960.0</td>\n",
       "      <td>3.0</td>\n",
       "      <td>441.0</td>\n",
       "      <td>1656.0</td>\n",
       "      <td>0.0</td>\n",
       "      <td>1656.0</td>\n",
       "      <td>1.0</td>\n",
       "      <td>441.0</td>\n",
       "      <td>1.0</td>\n",
       "      <td>...</td>\n",
       "      <td>270.0</td>\n",
       "      <td>1.0</td>\n",
       "      <td>0.0</td>\n",
       "      <td>1.0</td>\n",
       "      <td>3.0</td>\n",
       "      <td>1.0</td>\n",
       "      <td>140.0</td>\n",
       "      <td>-1.0</td>\n",
       "      <td>0.0</td>\n",
       "      <td>3.0</td>\n",
       "    </tr>\n",
       "    <tr>\n",
       "      <th>1</th>\n",
       "      <td>2.0</td>\n",
       "      <td>1960.0</td>\n",
       "      <td>3.0</td>\n",
       "      <td>441.0</td>\n",
       "      <td>1656.0</td>\n",
       "      <td>0.0</td>\n",
       "      <td>1656.0</td>\n",
       "      <td>1.0</td>\n",
       "      <td>441.0</td>\n",
       "      <td>1.0</td>\n",
       "      <td>...</td>\n",
       "      <td>406.0</td>\n",
       "      <td>1.0</td>\n",
       "      <td>1.0</td>\n",
       "      <td>1.0</td>\n",
       "      <td>3.0</td>\n",
       "      <td>1.0</td>\n",
       "      <td>393.0</td>\n",
       "      <td>-1.0</td>\n",
       "      <td>1.0</td>\n",
       "      <td>3.0</td>\n",
       "    </tr>\n",
       "    <tr>\n",
       "      <th>2</th>\n",
       "      <td>2.0</td>\n",
       "      <td>1960.0</td>\n",
       "      <td>3.0</td>\n",
       "      <td>441.0</td>\n",
       "      <td>1656.0</td>\n",
       "      <td>0.0</td>\n",
       "      <td>1656.0</td>\n",
       "      <td>1.0</td>\n",
       "      <td>441.0</td>\n",
       "      <td>1.0</td>\n",
       "      <td>...</td>\n",
       "      <td>1045.0</td>\n",
       "      <td>2.0</td>\n",
       "      <td>1.0</td>\n",
       "      <td>1.0</td>\n",
       "      <td>3.0</td>\n",
       "      <td>2.0</td>\n",
       "      <td>0.0</td>\n",
       "      <td>-1.0</td>\n",
       "      <td>0.0</td>\n",
       "      <td>3.0</td>\n",
       "    </tr>\n",
       "    <tr>\n",
       "      <th>3</th>\n",
       "      <td>2.0</td>\n",
       "      <td>1960.0</td>\n",
       "      <td>3.0</td>\n",
       "      <td>441.0</td>\n",
       "      <td>1656.0</td>\n",
       "      <td>0.0</td>\n",
       "      <td>1656.0</td>\n",
       "      <td>1.0</td>\n",
       "      <td>441.0</td>\n",
       "      <td>1.0</td>\n",
       "      <td>...</td>\n",
       "      <td>137.0</td>\n",
       "      <td>2.0</td>\n",
       "      <td>1.0</td>\n",
       "      <td>1.0</td>\n",
       "      <td>3.0</td>\n",
       "      <td>2.0</td>\n",
       "      <td>212.0</td>\n",
       "      <td>-1.0</td>\n",
       "      <td>0.0</td>\n",
       "      <td>3.0</td>\n",
       "    </tr>\n",
       "    <tr>\n",
       "      <th>4</th>\n",
       "      <td>2.0</td>\n",
       "      <td>1960.0</td>\n",
       "      <td>3.0</td>\n",
       "      <td>441.0</td>\n",
       "      <td>1656.0</td>\n",
       "      <td>0.0</td>\n",
       "      <td>1656.0</td>\n",
       "      <td>1.0</td>\n",
       "      <td>441.0</td>\n",
       "      <td>1.0</td>\n",
       "      <td>...</td>\n",
       "      <td>324.0</td>\n",
       "      <td>2.0</td>\n",
       "      <td>1.0</td>\n",
       "      <td>1.0</td>\n",
       "      <td>3.0</td>\n",
       "      <td>2.0</td>\n",
       "      <td>360.0</td>\n",
       "      <td>-1.0</td>\n",
       "      <td>0.0</td>\n",
       "      <td>3.0</td>\n",
       "    </tr>\n",
       "  </tbody>\n",
       "</table>\n",
       "<p>5 rows × 36 columns</p>\n",
       "</div>"
      ],
      "text/plain": [
       "       Condition 2  Year Remod/Add  Exter Qual  Bsmt Unf SF  1st Flr SF  \\\n",
       "Order                                                                     \n",
       "0              2.0          1960.0         3.0        441.0      1656.0   \n",
       "1              2.0          1960.0         3.0        441.0      1656.0   \n",
       "2              2.0          1960.0         3.0        441.0      1656.0   \n",
       "3              2.0          1960.0         3.0        441.0      1656.0   \n",
       "4              2.0          1960.0         3.0        441.0      1656.0   \n",
       "\n",
       "       2nd Flr SF  Gr Liv Area  BsmtFin Type 2  Bsmt Unf SF  Full Bath  \\\n",
       "Order                                                                    \n",
       "0             0.0       1656.0             1.0        441.0        1.0   \n",
       "1             0.0       1656.0             1.0        441.0        1.0   \n",
       "2             0.0       1656.0             1.0        441.0        1.0   \n",
       "3             0.0       1656.0             1.0        441.0        1.0   \n",
       "4             0.0       1656.0             1.0        441.0        1.0   \n",
       "\n",
       "             ...         Bsmt Unf SF_2  Full Bath_2  Half Bath_2  \\\n",
       "Order        ...                                                   \n",
       "0            ...                 270.0          1.0          0.0   \n",
       "1            ...                 406.0          1.0          1.0   \n",
       "2            ...                1045.0          2.0          1.0   \n",
       "3            ...                 137.0          2.0          1.0   \n",
       "4            ...                 324.0          2.0          1.0   \n",
       "\n",
       "       Kitchen AbvGr_2  Garage Cond_2  Garage Cars_2  Wood Deck SF_2  \\\n",
       "Order                                                                  \n",
       "0                  1.0            3.0            1.0           140.0   \n",
       "1                  1.0            3.0            1.0           393.0   \n",
       "2                  1.0            3.0            2.0             0.0   \n",
       "3                  1.0            3.0            2.0           212.0   \n",
       "4                  1.0            3.0            2.0           360.0   \n",
       "\n",
       "       Pool QC_2  Misc Feature_2  Sale Condition_2  \n",
       "Order                                               \n",
       "0           -1.0             0.0               3.0  \n",
       "1           -1.0             1.0               3.0  \n",
       "2           -1.0             0.0               3.0  \n",
       "3           -1.0             0.0               3.0  \n",
       "4           -1.0             0.0               3.0  \n",
       "\n",
       "[5 rows x 36 columns]"
      ]
     },
     "execution_count": 34,
     "metadata": {},
     "output_type": "execute_result"
    }
   ],
   "source": [
    "X_2house.head()"
   ]
  },
  {
   "cell_type": "code",
   "execution_count": 8,
   "metadata": {},
   "outputs": [
    {
     "name": "stdout",
     "output_type": "stream",
     "text": [
      "dimension of X_2house: (4290985, 158)\n",
      "dimension of y_2House: (4290985,)\n",
      "Index(['MS SubClass', 'MS Zoning', 'Lot Frontage', 'Lot Area', 'Street',\n",
      "       'Alley', 'Lot Shape', 'Land Contour', 'Utilities', 'Lot Config',\n",
      "       ...\n",
      "       'Screen Porch_2', 'Pool Area_2', 'Pool QC_2', 'Fence_2',\n",
      "       'Misc Feature_2', 'Misc Val_2', 'Mo Sold_2', 'Yr Sold_2', 'Sale Type_2',\n",
      "       'Sale Condition_2'],\n",
      "      dtype='object', length=158)\n"
     ]
    }
   ],
   "source": [
    "print('dimension of X_2house:',X_2house.shape)\n",
    "print('dimension of y_2House:',y_2house.shape)\n",
    "print(X_2house.columns)"
   ]
  },
  {
   "cell_type": "markdown",
   "metadata": {},
   "source": [
    "## Now test on 1st different way of preparing data\n",
    "\n",
    "### policy: drop the unecessary attributes (based on previous LR and RF models)"
   ]
  },
  {
   "cell_type": "code",
   "execution_count": 9,
   "metadata": {},
   "outputs": [
    {
     "name": "stdout",
     "output_type": "stream",
     "text": [
      "['Condition 2', 'Year Remod/Add', 'Exter Qual', 'Bsmt Unf SF', '1st Flr SF', '2nd Flr SF', 'Gr Liv Area', 'BsmtFin Type 2', 'Bsmt Unf SF', 'Full Bath', 'Half Bath', 'Kitchen AbvGr', 'Garage Cond', 'Garage Cars', 'Wood Deck SF', 'Pool QC', 'Misc Feature', 'Sale Condition', 'Condition 2_2', 'Year Remod/Add_2', 'Exter Qual_2', 'Bsmt Unf SF_2', '1st Flr SF_2', '2nd Flr SF_2', 'Gr Liv Area_2', 'BsmtFin Type 2_2', 'Bsmt Unf SF_2', 'Full Bath_2', 'Half Bath_2', 'Kitchen AbvGr_2', 'Garage Cond_2', 'Garage Cars_2', 'Wood Deck SF_2', 'Pool QC_2', 'Misc Feature_2', 'Sale Condition_2']\n"
     ]
    }
   ],
   "source": [
    "col_pres=['Condition 2','Year Remod/Add','Exter Qual','Bsmt Unf SF','1st Flr SF','2nd Flr SF','Gr Liv Area','BsmtFin Type 2','Bsmt Unf SF','Full Bath','Half Bath','Kitchen AbvGr','Garage Cond','Garage Cars','Wood Deck SF','Pool QC','Misc Feature','Sale Condition']\n",
    "col_pres2=[]\n",
    "for item in col_pres:\n",
    "    k = item+'_2'\n",
    "    col_pres2.append(k)\n",
    "new_col= col_pres+col_pres2\n",
    "print(new_col)"
   ]
  },
  {
   "cell_type": "code",
   "execution_count": 10,
   "metadata": {},
   "outputs": [
    {
     "name": "stdout",
     "output_type": "stream",
     "text": [
      "Index(['Condition 2', 'Year Remod/Add', 'Exter Qual', 'Bsmt Unf SF',\n",
      "       '1st Flr SF', '2nd Flr SF', 'Gr Liv Area', 'BsmtFin Type 2',\n",
      "       'Bsmt Unf SF', 'Full Bath', 'Half Bath', 'Kitchen AbvGr', 'Garage Cond',\n",
      "       'Garage Cars', 'Wood Deck SF', 'Pool QC', 'Misc Feature',\n",
      "       'Sale Condition', 'Condition 2_2', 'Year Remod/Add_2', 'Exter Qual_2',\n",
      "       'Bsmt Unf SF_2', '1st Flr SF_2', '2nd Flr SF_2', 'Gr Liv Area_2',\n",
      "       'BsmtFin Type 2_2', 'Bsmt Unf SF_2', 'Full Bath_2', 'Half Bath_2',\n",
      "       'Kitchen AbvGr_2', 'Garage Cond_2', 'Garage Cars_2', 'Wood Deck SF_2',\n",
      "       'Pool QC_2', 'Misc Feature_2', 'Sale Condition_2'],\n",
      "      dtype='object')\n",
      "36\n"
     ]
    }
   ],
   "source": [
    "X_2house=X_2house[new_col]\n",
    "print(X_2house.columns)\n",
    "print(len(X_2house.columns))"
   ]
  },
  {
   "cell_type": "markdown",
   "metadata": {},
   "source": [
    "### Set up the train-test split in sklearn"
   ]
  },
  {
   "cell_type": "code",
   "execution_count": 11,
   "metadata": {},
   "outputs": [],
   "source": [
    "from sklearn.model_selection import train_test_split\n",
    "X_train, X_test, y_train, y_test = train_test_split(X_2house, y_2house, test_size=0.5, random_state=12)"
   ]
  },
  {
   "cell_type": "code",
   "execution_count": 35,
   "metadata": {},
   "outputs": [
    {
     "name": "stdout",
     "output_type": "stream",
     "text": [
      "(2145492, 36)\n",
      "(2145492,)\n",
      "(2145493, 36)\n",
      "(2145493,)\n"
     ]
    }
   ],
   "source": [
    "print(X_train.shape)\n",
    "print(y_train.shape)\n",
    "print(X_test.shape)\n",
    "print(y_test.shape)"
   ]
  },
  {
   "cell_type": "code",
   "execution_count": 13,
   "metadata": {},
   "outputs": [
    {
     "name": "stdout",
     "output_type": "stream",
     "text": [
      "<class 'pandas.core.frame.DataFrame'>\n"
     ]
    },
    {
     "data": {
      "text/html": [
       "<div>\n",
       "<style scoped>\n",
       "    .dataframe tbody tr th:only-of-type {\n",
       "        vertical-align: middle;\n",
       "    }\n",
       "\n",
       "    .dataframe tbody tr th {\n",
       "        vertical-align: top;\n",
       "    }\n",
       "\n",
       "    .dataframe thead th {\n",
       "        text-align: right;\n",
       "    }\n",
       "</style>\n",
       "<table border=\"1\" class=\"dataframe\">\n",
       "  <thead>\n",
       "    <tr style=\"text-align: right;\">\n",
       "      <th></th>\n",
       "      <th>Condition 2</th>\n",
       "      <th>Year Remod/Add</th>\n",
       "      <th>Exter Qual</th>\n",
       "      <th>Bsmt Unf SF</th>\n",
       "      <th>1st Flr SF</th>\n",
       "      <th>2nd Flr SF</th>\n",
       "      <th>Gr Liv Area</th>\n",
       "      <th>BsmtFin Type 2</th>\n",
       "      <th>Bsmt Unf SF</th>\n",
       "      <th>Full Bath</th>\n",
       "      <th>...</th>\n",
       "      <th>Bsmt Unf SF_2</th>\n",
       "      <th>Full Bath_2</th>\n",
       "      <th>Half Bath_2</th>\n",
       "      <th>Kitchen AbvGr_2</th>\n",
       "      <th>Garage Cond_2</th>\n",
       "      <th>Garage Cars_2</th>\n",
       "      <th>Wood Deck SF_2</th>\n",
       "      <th>Pool QC_2</th>\n",
       "      <th>Misc Feature_2</th>\n",
       "      <th>Sale Condition_2</th>\n",
       "    </tr>\n",
       "    <tr>\n",
       "      <th>Order</th>\n",
       "      <th></th>\n",
       "      <th></th>\n",
       "      <th></th>\n",
       "      <th></th>\n",
       "      <th></th>\n",
       "      <th></th>\n",
       "      <th></th>\n",
       "      <th></th>\n",
       "      <th></th>\n",
       "      <th></th>\n",
       "      <th></th>\n",
       "      <th></th>\n",
       "      <th></th>\n",
       "      <th></th>\n",
       "      <th></th>\n",
       "      <th></th>\n",
       "      <th></th>\n",
       "      <th></th>\n",
       "      <th></th>\n",
       "      <th></th>\n",
       "      <th></th>\n",
       "    </tr>\n",
       "  </thead>\n",
       "  <tbody>\n",
       "    <tr>\n",
       "      <th>221331</th>\n",
       "      <td>2.0</td>\n",
       "      <td>1992.0</td>\n",
       "      <td>4.0</td>\n",
       "      <td>1055.0</td>\n",
       "      <td>1055.0</td>\n",
       "      <td>790.0</td>\n",
       "      <td>1845.0</td>\n",
       "      <td>1.0</td>\n",
       "      <td>1055.0</td>\n",
       "      <td>2.0</td>\n",
       "      <td>...</td>\n",
       "      <td>356.0</td>\n",
       "      <td>2.0</td>\n",
       "      <td>0.0</td>\n",
       "      <td>1.0</td>\n",
       "      <td>3.0</td>\n",
       "      <td>2.0</td>\n",
       "      <td>240.0</td>\n",
       "      <td>-1.0</td>\n",
       "      <td>0.0</td>\n",
       "      <td>3.0</td>\n",
       "    </tr>\n",
       "    <tr>\n",
       "      <th>4201490</th>\n",
       "      <td>2.0</td>\n",
       "      <td>2005.0</td>\n",
       "      <td>3.0</td>\n",
       "      <td>600.0</td>\n",
       "      <td>520.0</td>\n",
       "      <td>600.0</td>\n",
       "      <td>1200.0</td>\n",
       "      <td>1.0</td>\n",
       "      <td>600.0</td>\n",
       "      <td>2.0</td>\n",
       "      <td>...</td>\n",
       "      <td>485.0</td>\n",
       "      <td>1.0</td>\n",
       "      <td>0.0</td>\n",
       "      <td>1.0</td>\n",
       "      <td>3.0</td>\n",
       "      <td>1.0</td>\n",
       "      <td>394.0</td>\n",
       "      <td>-1.0</td>\n",
       "      <td>0.0</td>\n",
       "      <td>3.0</td>\n",
       "    </tr>\n",
       "  </tbody>\n",
       "</table>\n",
       "<p>2 rows × 36 columns</p>\n",
       "</div>"
      ],
      "text/plain": [
       "         Condition 2  Year Remod/Add  Exter Qual  Bsmt Unf SF  1st Flr SF  \\\n",
       "Order                                                                       \n",
       "221331           2.0          1992.0         4.0       1055.0      1055.0   \n",
       "4201490          2.0          2005.0         3.0        600.0       520.0   \n",
       "\n",
       "         2nd Flr SF  Gr Liv Area  BsmtFin Type 2  Bsmt Unf SF  Full Bath  \\\n",
       "Order                                                                      \n",
       "221331        790.0       1845.0             1.0       1055.0        2.0   \n",
       "4201490       600.0       1200.0             1.0        600.0        2.0   \n",
       "\n",
       "               ...         Bsmt Unf SF_2  Full Bath_2  Half Bath_2  \\\n",
       "Order          ...                                                   \n",
       "221331         ...                 356.0          2.0          0.0   \n",
       "4201490        ...                 485.0          1.0          0.0   \n",
       "\n",
       "         Kitchen AbvGr_2  Garage Cond_2  Garage Cars_2  Wood Deck SF_2  \\\n",
       "Order                                                                    \n",
       "221331               1.0            3.0            2.0           240.0   \n",
       "4201490              1.0            3.0            1.0           394.0   \n",
       "\n",
       "         Pool QC_2  Misc Feature_2  Sale Condition_2  \n",
       "Order                                                 \n",
       "221331        -1.0             0.0               3.0  \n",
       "4201490       -1.0             0.0               3.0  \n",
       "\n",
       "[2 rows x 36 columns]"
      ]
     },
     "execution_count": 13,
     "metadata": {},
     "output_type": "execute_result"
    }
   ],
   "source": [
    "print(type(X_train))\n",
    "X_train.head(2)"
   ]
  },
  {
   "cell_type": "code",
   "execution_count": 14,
   "metadata": {},
   "outputs": [
    {
     "name": "stdout",
     "output_type": "stream",
     "text": [
      "[ -3350.  34000.]\n"
     ]
    }
   ],
   "source": [
    "print(y_train[0:2])"
   ]
  },
  {
   "cell_type": "markdown",
   "metadata": {},
   "source": [
    "## Setup a RF(Random Forest) model"
   ]
  },
  {
   "cell_type": "code",
   "execution_count": 16,
   "metadata": {},
   "outputs": [],
   "source": [
    "from sklearn.ensemble import RandomForestRegressor\n",
    "RF_model01 = RandomForestRegressor(random_state=12)"
   ]
  },
  {
   "cell_type": "code",
   "execution_count": 17,
   "metadata": {},
   "outputs": [
    {
     "data": {
      "text/plain": [
       "RandomForestRegressor(bootstrap=True, criterion='mse', max_depth=None,\n",
       "           max_features='auto', max_leaf_nodes=None,\n",
       "           min_impurity_decrease=0.0, min_impurity_split=None,\n",
       "           min_samples_leaf=1, min_samples_split=2,\n",
       "           min_weight_fraction_leaf=0.0, n_estimators=10, n_jobs=1,\n",
       "           oob_score=False, random_state=12, verbose=0, warm_start=False)"
      ]
     },
     "execution_count": 17,
     "metadata": {},
     "output_type": "execute_result"
    }
   ],
   "source": [
    "RF_model01.fit(X_train,y_train)"
   ]
  },
  {
   "cell_type": "code",
   "execution_count": 18,
   "metadata": {},
   "outputs": [
    {
     "name": "stdout",
     "output_type": "stream",
     "text": [
      "training score of RandomForest: 1.0\n",
      "test score of RandomForest: 1.0\n"
     ]
    }
   ],
   "source": [
    "pred_train_RF = RF_model01.predict(X_train)\n",
    "print('training score of RandomForest:',RF_model01.score(X_train,pred_train_RF))\n",
    "pred_test_RF = RF_model01.predict(X_test)\n",
    "print('test score of RandomForest:',RF_model01.score(X_test,pred_test_RF))"
   ]
  },
  {
   "cell_type": "code",
   "execution_count": 20,
   "metadata": {},
   "outputs": [
    {
     "name": "stdout",
     "output_type": "stream",
     "text": [
      "MSE score(training): 45361102.8945\n",
      "MAE score(training): 4371.08836222\n",
      "MSE score: 236618015.703\n",
      "MAE score: 10549.6366184\n"
     ]
    }
   ],
   "source": [
    "# access several benchmark RMSE for reference:\n",
    "from sklearn import metrics\n",
    "print('MSE score(training):',metrics.mean_squared_error(y_train, pred_train_RF))\n",
    "print('MAE score(training):',metrics.mean_absolute_error(y_train, pred_train_RF))\n",
    "print('MSE score:',metrics.mean_squared_error(y_test, pred_test_RF))\n",
    "print('MAE score:',metrics.mean_absolute_error(y_test, pred_test_RF))"
   ]
  },
  {
   "cell_type": "code",
   "execution_count": 22,
   "metadata": {},
   "outputs": [
    {
     "data": {
      "image/png": "[encoded data removed]",
      "text/plain": [
       "<Figure size 432x288 with 1 Axes>"
      ]
     },
     "metadata": {},
     "output_type": "display_data"
    }
   ],
   "source": [
    "## Plotting the predicted price difference and the true price difference\n",
    "import matplotlib.pyplot as plt\n",
    "plt.scatter(pred_test_RF,y_test, s=5)\n",
    "plt.title('test data prediction')\n",
    "plt.xlabel('predicted')\n",
    "plt.ylabel('true')\n",
    "plt.show()"
   ]
  },
  {
   "cell_type": "code",
   "execution_count": 23,
   "metadata": {},
   "outputs": [
    {
     "data": {
      "image/png": "[encoded data removed]",
      "text/plain": [
       "<Figure size 432x288 with 1 Axes>"
      ]
     },
     "metadata": {},
     "output_type": "display_data"
    }
   ],
   "source": [
    "plt.scatter(pred_train_RF,y_train, s=5)\n",
    "plt.title('train data prediction')\n",
    "plt.xlabel('predicted')\n",
    "plt.ylabel('true')\n",
    "plt.show()"
   ]
  },
  {
   "cell_type": "code",
   "execution_count": 32,
   "metadata": {},
   "outputs": [
    {
     "name": "stdout",
     "output_type": "stream",
     "text": [
      "Condition 2 7.85262572242e-05\n",
      "Year Remod/Add 0.0204224678436\n",
      "Exter Qual 0.108515602561\n",
      "Bsmt Unf SF 0.00749016678184\n",
      "1st Flr SF 0.0467220841469\n",
      "2nd Flr SF 0.00449630321577\n",
      "Gr Liv Area 0.0797001133266\n",
      "BsmtFin Type 2 0.00196904944448\n",
      "Bsmt Unf SF 0.00743992041258\n",
      "Full Bath 0.00149941594169\n",
      "Half Bath 0.00210087499341\n",
      "Kitchen AbvGr 0.00289735544737\n",
      "Garage Cond 0.00349429072447\n",
      "Garage Cars 0.214517018973\n",
      "Wood Deck SF 0.00707287822246\n",
      "Pool QC 7.73632962429e-05\n",
      "Misc Feature 0.000264185476614\n",
      "Sale Condition 0.00244698148853\n",
      "Condition 2_2 6.77730984838e-05\n",
      "Year Remod/Add_2 0.0182773200733\n",
      "Exter Qual_2 0.192050601727\n",
      "Bsmt Unf SF_2 0.00783182746667\n",
      "1st Flr SF_2 0.0586893273812\n",
      "2nd Flr SF_2 0.0166704782956\n",
      "Gr Liv Area_2 0.0837617331476\n",
      "BsmtFin Type 2_2 0.00187490454059\n",
      "Bsmt Unf SF_2 0.00777297988969\n",
      "Full Bath_2 0.00203130585877\n",
      "Half Bath_2 0.00145947398557\n",
      "Kitchen AbvGr_2 0.003107679924\n",
      "Garage Cond_2 0.00372446162308\n",
      "Garage Cars_2 0.0824137050118\n",
      "Wood Deck SF_2 0.00621891377652\n",
      "Pool QC_2 9.46997027115e-05\n",
      "Misc Feature_2 0.000208379438232\n",
      "Sale Condition_2 0.00253983650469\n"
     ]
    },
    {
     "data": {
      "image/png": "[encoded data removed]",
      "text/plain": [
       "<Figure size 1440x360 with 1 Axes>"
      ]
     },
     "metadata": {},
     "output_type": "display_data"
    }
   ],
   "source": [
    "# Take a look at feature importance\n",
    "f_importance = pd.DataFrame({'feature':new_col, 'importance':RF_model01.feature_importances_})\n",
    "#plot histogram\n",
    "x_tick_label=[None]*36\n",
    "hist_val=np.zeros(36)\n",
    "for i in range(0,36):\n",
    "    hist_val[i] = f_importance.values[i][1]\n",
    "    x_tick_label[i] = f_importance.values[i][0]\n",
    "    print(x_tick_label[i],hist_val[i])\n",
    "    \n",
    "index = np.arange(36)+1\n",
    "fig, ax = plt.subplots(figsize=(20,5))\n",
    "ax.bar(index,hist_val, .3, color='r')\n",
    "ax.set_xticks(range(1, 38, 1))\n",
    "ax.set_xticklabels(x_tick_label, rotation='vertical')\n",
    "plt.show()"
   ]
  },
  {
   "cell_type": "markdown",
   "metadata": {},
   "source": [
    "## Run a cross-validation to know the RF_model01 performance."
   ]
  },
  {
   "cell_type": "code",
   "execution_count": 36,
   "metadata": {},
   "outputs": [],
   "source": [
    "import numpy as np\n",
    "from sklearn.model_selection import KFold, cross_val_score\n",
    "k_fold = KFold(n_splits=20)"
   ]
  },
  {
   "cell_type": "code",
   "execution_count": 37,
   "metadata": {},
   "outputs": [
    {
     "name": "stdout",
     "output_type": "stream",
     "text": [
      "[CV]  ................................................................\n",
      "[CV] ...................... , score=-236497662.39527422, total= 6.3min\n",
      "[CV]  ................................................................\n"
     ]
    },
    {
     "name": "stderr",
     "output_type": "stream",
     "text": [
      "[Parallel(n_jobs=1)]: Done   1 out of   1 | elapsed:  6.5min remaining:    0.0s\n"
     ]
    },
    {
     "name": "stdout",
     "output_type": "stream",
     "text": [
      "[CV] ....................... , score=-243610561.6457283, total= 4.9min\n",
      "[CV]  ................................................................\n"
     ]
    },
    {
     "name": "stderr",
     "output_type": "stream",
     "text": [
      "[Parallel(n_jobs=1)]: Done   2 out of   2 | elapsed: 11.4min remaining:    0.0s\n"
     ]
    },
    {
     "name": "stdout",
     "output_type": "stream",
     "text": [
      "[CV] ...................... , score=-241052219.33486265, total= 4.9min\n",
      "[CV]  ................................................................\n"
     ]
    },
    {
     "name": "stderr",
     "output_type": "stream",
     "text": [
      "[Parallel(n_jobs=1)]: Done   3 out of   3 | elapsed: 16.3min remaining:    0.0s\n"
     ]
    },
    {
     "name": "stdout",
     "output_type": "stream",
     "text": [
      "[CV] ....................... , score=-241655954.1372458, total= 4.9min\n",
      "[CV]  ................................................................\n"
     ]
    },
    {
     "name": "stderr",
     "output_type": "stream",
     "text": [
      "[Parallel(n_jobs=1)]: Done   4 out of   4 | elapsed: 21.3min remaining:    0.0s\n"
     ]
    },
    {
     "name": "stdout",
     "output_type": "stream",
     "text": [
      "[CV] ...................... , score=-241538549.58114433, total= 4.9min\n",
      "[CV]  ................................................................\n"
     ]
    },
    {
     "name": "stderr",
     "output_type": "stream",
     "text": [
      "[Parallel(n_jobs=1)]: Done   5 out of   5 | elapsed: 26.2min remaining:    0.0s\n"
     ]
    },
    {
     "name": "stdout",
     "output_type": "stream",
     "text": [
      "[CV] ...................... , score=-234671760.64221364, total= 4.9min\n",
      "[CV]  ................................................................\n"
     ]
    },
    {
     "name": "stderr",
     "output_type": "stream",
     "text": [
      "[Parallel(n_jobs=1)]: Done   6 out of   6 | elapsed: 31.1min remaining:    0.0s\n"
     ]
    },
    {
     "name": "stdout",
     "output_type": "stream",
     "text": [
      "[CV] ....................... , score=-238853430.3022286, total= 4.9min\n",
      "[CV]  ................................................................\n"
     ]
    },
    {
     "name": "stderr",
     "output_type": "stream",
     "text": [
      "[Parallel(n_jobs=1)]: Done   7 out of   7 | elapsed: 36.1min remaining:    0.0s\n"
     ]
    },
    {
     "name": "stdout",
     "output_type": "stream",
     "text": [
      "[CV] ...................... , score=-241259562.47119445, total= 5.0min\n",
      "[CV]  ................................................................\n"
     ]
    },
    {
     "name": "stderr",
     "output_type": "stream",
     "text": [
      "[Parallel(n_jobs=1)]: Done   8 out of   8 | elapsed: 41.0min remaining:    0.0s\n"
     ]
    },
    {
     "name": "stdout",
     "output_type": "stream",
     "text": [
      "[CV] ....................... , score=-239484029.9642206, total= 4.9min\n",
      "[CV]  ................................................................\n"
     ]
    },
    {
     "name": "stderr",
     "output_type": "stream",
     "text": [
      "[Parallel(n_jobs=1)]: Done   9 out of   9 | elapsed: 45.9min remaining:    0.0s\n"
     ]
    },
    {
     "name": "stdout",
     "output_type": "stream",
     "text": [
      "[CV] ....................... , score=-241215711.3955964, total= 4.9min\n",
      "[CV]  ................................................................\n",
      "[CV] ....................... , score=-241021071.5309559, total= 4.9min\n",
      "[CV]  ................................................................\n",
      "[CV] ....................... , score=-240477754.8116568, total= 4.7min\n",
      "[CV]  ................................................................\n",
      "[CV] ....................... , score=-241370119.3723347, total= 4.4min\n",
      "[CV]  ................................................................\n",
      "[CV] ....................... , score=-240583553.1137632, total= 4.4min\n",
      "[CV]  ................................................................\n",
      "[CV] ...................... , score=-245037622.39583308, total= 4.4min\n",
      "[CV]  ................................................................\n",
      "[CV] ...................... , score=-241490290.17601058, total= 4.4min\n",
      "[CV]  ................................................................\n",
      "[CV] ...................... , score=-240633828.33204806, total= 4.4min\n",
      "[CV]  ................................................................\n",
      "[CV] ....................... , score=-241521281.2025073, total= 4.3min\n",
      "[CV]  ................................................................\n",
      "[CV] ...................... , score=-241737283.23965707, total= 4.2min\n",
      "[CV]  ................................................................\n",
      "[CV] ....................... , score=-240255245.5407061, total= 4.2min\n",
      "Cross-validated scores: [ 15378.48049696  15608.02875592  15525.85647669  15545.28720022\n",
      "  15541.51053087  15318.99998832  15454.88370394  15532.5323908\n",
      "  15475.2715635   15531.12073856  15524.85334974  15507.34518903\n",
      "  15536.09086522  15510.75604585  15653.67759972  15539.95785631\n",
      "  15512.37661779  15540.9549643   15547.90285664  15500.16921007]\n"
     ]
    },
    {
     "name": "stderr",
     "output_type": "stream",
     "text": [
      "[Parallel(n_jobs=1)]: Done  20 out of  20 | elapsed: 95.3min finished\n"
     ]
    }
   ],
   "source": [
    "k_fold.get_n_splits(X_train)\n",
    "scores = np.sqrt(-1*cross_val_score(RF_model01, X_train, y_train, verbose=10, cv=20,scoring = 'neg_mean_squared_error'))\n",
    "print('Cross-validated scores:', scores)"
   ]
  },
  {
   "cell_type": "code",
   "execution_count": 38,
   "metadata": {},
   "outputs": [
    {
     "name": "stdout",
     "output_type": "stream",
     "text": [
      "Mean Cross-validation scores of MSE: 15514.30282\n"
     ]
    }
   ],
   "source": [
    "print('Mean Cross-validation scores of MSE:',np.mean(scores))"
   ]
  },
  {
   "cell_type": "code",
   "execution_count": 39,
   "metadata": {},
   "outputs": [
    {
     "data": {
      "text/plain": [
       "DescribeResult(nobs=20, minmax=(15318.999988322137, 15653.677599715444), mean=15514.302820022134, variance=5034.3030656638584, skewness=-0.9900790333225264, kurtosis=1.9592859577925337)"
      ]
     },
     "execution_count": 39,
     "metadata": {},
     "output_type": "execute_result"
    }
   ],
   "source": [
    "from scipy import stats\n",
    "stats.describe(scores)"
   ]
  },
  {
   "cell_type": "code",
   "execution_count": 40,
   "metadata": {},
   "outputs": [
    {
     "name": "stdout",
     "output_type": "stream",
     "text": [
      "[ 1  2  3  4  5  6  7  8  9 10 11 12 13 14 15 16 17 18 19 20]\n"
     ]
    },
    {
     "data": {
      "image/png": "[encoded data removed]",
      "text/plain": [
       "<Figure size 1080x648 with 1 Axes>"
      ]
     },
     "metadata": {},
     "output_type": "display_data"
    }
   ],
   "source": [
    "## Plot the variation of the cross-validation scores\n",
    "stp=np.array([x for x in range(1,21)])\n",
    "print(stp)\n",
    "fig = plt.figure(figsize=(15,9))\n",
    "ax = plt.gca()\n",
    "ax.scatter(stp,scores,s=8)\n",
    "plt.title('cross-validation score')\n",
    "plt.xlabel('Fold')\n",
    "plt.ylabel('MSE')\n",
    "plt.show()"
   ]
  },
  {
   "cell_type": "code",
   "execution_count": null,
   "metadata": {},
   "outputs": [],
   "source": []
  }
 ],
 "metadata": {
  "kernelspec": {
   "display_name": "Python 3",
   "language": "python",
   "name": "python3"
  },
  "language_info": {
   "codemirror_mode": {
    "name": "ipython",
    "version": 3
   },
   "file_extension": ".py",
   "mimetype": "text/x-python",
   "name": "python",
   "nbconvert_exporter": "python",
   "pygments_lexer": "ipython3",
   "version": "3.6.5"
  }
 },
 "nbformat": 4,
 "nbformat_minor": 2
}

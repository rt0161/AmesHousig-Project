{
 "cells": [
  {
   "cell_type": "markdown",
   "metadata": {},
   "source": [
    "## This is the default cleaned data that is input to the Benchmark ML model : Random Forest + ver2 clean data"
   ]
  },
  {
   "cell_type": "code",
   "execution_count": 1,
   "metadata": {},
   "outputs": [],
   "source": [
    "import pandas as pd\n",
    "import numpy as np"
   ]
  },
  {
   "cell_type": "code",
   "execution_count": 5,
   "metadata": {},
   "outputs": [],
   "source": [
    "X_2house = pd.read_csv('/wgdisk/ho0338/ek79/Tien/X_2house_v2.csv')\n",
    "X_2house=X_2house.drop(columns=['Unnamed: 0'])\n",
    "X_2house.index.rename('Order', inplace=True)"
   ]
  },
  {
   "cell_type": "code",
   "execution_count": 6,
   "metadata": {},
   "outputs": [],
   "source": [
    "y_2house = np.load('y_2house.npy')"
   ]
  },
  {
   "cell_type": "markdown",
   "metadata": {},
   "source": [
    "## preparing the data input to ML "
   ]
  },
  {
   "cell_type": "code",
   "execution_count": 18,
   "metadata": {},
   "outputs": [],
   "source": [
    "# load the saved csv\n",
    "# !head -10 /wgdisk/ho0331/ek79/Tien_DS/X_2house.csv\n",
    "# X_2house = pd.read_csv('/wgdisk/ho0331/ek79/Tien_DS/X_2house.csv')"
   ]
  },
  {
   "cell_type": "code",
   "execution_count": 7,
   "metadata": {},
   "outputs": [
    {
     "data": {
      "text/html": [
       "<div>\n",
       "<style scoped>\n",
       "    .dataframe tbody tr th:only-of-type {\n",
       "        vertical-align: middle;\n",
       "    }\n",
       "\n",
       "    .dataframe tbody tr th {\n",
       "        vertical-align: top;\n",
       "    }\n",
       "\n",
       "    .dataframe thead th {\n",
       "        text-align: right;\n",
       "    }\n",
       "</style>\n",
       "<table border=\"1\" class=\"dataframe\">\n",
       "  <thead>\n",
       "    <tr style=\"text-align: right;\">\n",
       "      <th></th>\n",
       "      <th>MS SubClass</th>\n",
       "      <th>MS Zoning</th>\n",
       "      <th>Lot Frontage</th>\n",
       "      <th>Lot Area</th>\n",
       "      <th>Street</th>\n",
       "      <th>Alley</th>\n",
       "      <th>Lot Shape</th>\n",
       "      <th>Land Contour</th>\n",
       "      <th>Utilities</th>\n",
       "      <th>Lot Config</th>\n",
       "      <th>...</th>\n",
       "      <th>Misc Val_2</th>\n",
       "      <th>Mo Sold_2</th>\n",
       "      <th>Yr Sold_2</th>\n",
       "      <th>Sale Type_2</th>\n",
       "      <th>Sale Condition_2</th>\n",
       "      <th>Bsmt Bath_2</th>\n",
       "      <th>Total Bath_2</th>\n",
       "      <th>Porch SF_2</th>\n",
       "      <th>Total House SF_2</th>\n",
       "      <th>Sold Time_2</th>\n",
       "    </tr>\n",
       "    <tr>\n",
       "      <th>Order</th>\n",
       "      <th></th>\n",
       "      <th></th>\n",
       "      <th></th>\n",
       "      <th></th>\n",
       "      <th></th>\n",
       "      <th></th>\n",
       "      <th></th>\n",
       "      <th></th>\n",
       "      <th></th>\n",
       "      <th></th>\n",
       "      <th></th>\n",
       "      <th></th>\n",
       "      <th></th>\n",
       "      <th></th>\n",
       "      <th></th>\n",
       "      <th></th>\n",
       "      <th></th>\n",
       "      <th></th>\n",
       "      <th></th>\n",
       "      <th></th>\n",
       "      <th></th>\n",
       "    </tr>\n",
       "  </thead>\n",
       "  <tbody>\n",
       "    <tr>\n",
       "      <th>0</th>\n",
       "      <td>20.0</td>\n",
       "      <td>4.0</td>\n",
       "      <td>141.0</td>\n",
       "      <td>31770.0</td>\n",
       "      <td>1.0</td>\n",
       "      <td>1.0</td>\n",
       "      <td>0.0</td>\n",
       "      <td>3.0</td>\n",
       "      <td>4.0</td>\n",
       "      <td>0.0</td>\n",
       "      <td>...</td>\n",
       "      <td>0.0</td>\n",
       "      <td>6.0</td>\n",
       "      <td>2010.0</td>\n",
       "      <td>0.0</td>\n",
       "      <td>3.0</td>\n",
       "      <td>0.000000</td>\n",
       "      <td>1.0</td>\n",
       "      <td>0.041096</td>\n",
       "      <td>2920.0</td>\n",
       "      <td>54.0</td>\n",
       "    </tr>\n",
       "    <tr>\n",
       "      <th>1</th>\n",
       "      <td>20.0</td>\n",
       "      <td>4.0</td>\n",
       "      <td>141.0</td>\n",
       "      <td>31770.0</td>\n",
       "      <td>1.0</td>\n",
       "      <td>1.0</td>\n",
       "      <td>0.0</td>\n",
       "      <td>3.0</td>\n",
       "      <td>4.0</td>\n",
       "      <td>0.0</td>\n",
       "      <td>...</td>\n",
       "      <td>12500.0</td>\n",
       "      <td>6.0</td>\n",
       "      <td>2010.0</td>\n",
       "      <td>0.0</td>\n",
       "      <td>3.0</td>\n",
       "      <td>0.000000</td>\n",
       "      <td>1.5</td>\n",
       "      <td>0.008086</td>\n",
       "      <td>4452.0</td>\n",
       "      <td>54.0</td>\n",
       "    </tr>\n",
       "    <tr>\n",
       "      <th>2</th>\n",
       "      <td>20.0</td>\n",
       "      <td>4.0</td>\n",
       "      <td>141.0</td>\n",
       "      <td>31770.0</td>\n",
       "      <td>1.0</td>\n",
       "      <td>1.0</td>\n",
       "      <td>0.0</td>\n",
       "      <td>3.0</td>\n",
       "      <td>4.0</td>\n",
       "      <td>0.0</td>\n",
       "      <td>...</td>\n",
       "      <td>0.0</td>\n",
       "      <td>4.0</td>\n",
       "      <td>2010.0</td>\n",
       "      <td>0.0</td>\n",
       "      <td>3.0</td>\n",
       "      <td>0.285714</td>\n",
       "      <td>3.5</td>\n",
       "      <td>0.000000</td>\n",
       "      <td>6330.0</td>\n",
       "      <td>52.0</td>\n",
       "    </tr>\n",
       "    <tr>\n",
       "      <th>3</th>\n",
       "      <td>20.0</td>\n",
       "      <td>4.0</td>\n",
       "      <td>141.0</td>\n",
       "      <td>31770.0</td>\n",
       "      <td>1.0</td>\n",
       "      <td>1.0</td>\n",
       "      <td>0.0</td>\n",
       "      <td>3.0</td>\n",
       "      <td>4.0</td>\n",
       "      <td>0.0</td>\n",
       "      <td>...</td>\n",
       "      <td>0.0</td>\n",
       "      <td>3.0</td>\n",
       "      <td>2010.0</td>\n",
       "      <td>0.0</td>\n",
       "      <td>3.0</td>\n",
       "      <td>0.000000</td>\n",
       "      <td>2.5</td>\n",
       "      <td>0.009031</td>\n",
       "      <td>3765.0</td>\n",
       "      <td>51.0</td>\n",
       "    </tr>\n",
       "    <tr>\n",
       "      <th>4</th>\n",
       "      <td>20.0</td>\n",
       "      <td>4.0</td>\n",
       "      <td>141.0</td>\n",
       "      <td>31770.0</td>\n",
       "      <td>1.0</td>\n",
       "      <td>1.0</td>\n",
       "      <td>0.0</td>\n",
       "      <td>3.0</td>\n",
       "      <td>4.0</td>\n",
       "      <td>0.0</td>\n",
       "      <td>...</td>\n",
       "      <td>0.0</td>\n",
       "      <td>6.0</td>\n",
       "      <td>2010.0</td>\n",
       "      <td>0.0</td>\n",
       "      <td>3.0</td>\n",
       "      <td>0.000000</td>\n",
       "      <td>2.5</td>\n",
       "      <td>0.009259</td>\n",
       "      <td>3888.0</td>\n",
       "      <td>54.0</td>\n",
       "    </tr>\n",
       "  </tbody>\n",
       "</table>\n",
       "<p>5 rows × 168 columns</p>\n",
       "</div>"
      ],
      "text/plain": [
       "       MS SubClass  MS Zoning  Lot Frontage  Lot Area  Street  Alley  \\\n",
       "Order                                                                  \n",
       "0             20.0        4.0         141.0   31770.0     1.0    1.0   \n",
       "1             20.0        4.0         141.0   31770.0     1.0    1.0   \n",
       "2             20.0        4.0         141.0   31770.0     1.0    1.0   \n",
       "3             20.0        4.0         141.0   31770.0     1.0    1.0   \n",
       "4             20.0        4.0         141.0   31770.0     1.0    1.0   \n",
       "\n",
       "       Lot Shape  Land Contour  Utilities  Lot Config     ...       \\\n",
       "Order                                                     ...        \n",
       "0            0.0           3.0        4.0         0.0     ...        \n",
       "1            0.0           3.0        4.0         0.0     ...        \n",
       "2            0.0           3.0        4.0         0.0     ...        \n",
       "3            0.0           3.0        4.0         0.0     ...        \n",
       "4            0.0           3.0        4.0         0.0     ...        \n",
       "\n",
       "       Misc Val_2  Mo Sold_2  Yr Sold_2  Sale Type_2  Sale Condition_2  \\\n",
       "Order                                                                    \n",
       "0             0.0        6.0     2010.0          0.0               3.0   \n",
       "1         12500.0        6.0     2010.0          0.0               3.0   \n",
       "2             0.0        4.0     2010.0          0.0               3.0   \n",
       "3             0.0        3.0     2010.0          0.0               3.0   \n",
       "4             0.0        6.0     2010.0          0.0               3.0   \n",
       "\n",
       "       Bsmt Bath_2  Total Bath_2  Porch SF_2  Total House SF_2  Sold Time_2  \n",
       "Order                                                                        \n",
       "0         0.000000           1.0    0.041096            2920.0         54.0  \n",
       "1         0.000000           1.5    0.008086            4452.0         54.0  \n",
       "2         0.285714           3.5    0.000000            6330.0         52.0  \n",
       "3         0.000000           2.5    0.009031            3765.0         51.0  \n",
       "4         0.000000           2.5    0.009259            3888.0         54.0  \n",
       "\n",
       "[5 rows x 168 columns]"
      ]
     },
     "execution_count": 7,
     "metadata": {},
     "output_type": "execute_result"
    }
   ],
   "source": [
    "X_2house.head()"
   ]
  },
  {
   "cell_type": "code",
   "execution_count": 9,
   "metadata": {},
   "outputs": [
    {
     "name": "stdout",
     "output_type": "stream",
     "text": [
      "dimension of X_2house: (4290985, 168)\n",
      "dimension of y_2House: (4290985,)\n",
      "Index(['MS SubClass', 'MS Zoning', 'Lot Frontage', 'Lot Area', 'Street',\n",
      "       'Alley', 'Lot Shape', 'Land Contour', 'Utilities', 'Lot Config',\n",
      "       ...\n",
      "       'Misc Val_2', 'Mo Sold_2', 'Yr Sold_2', 'Sale Type_2',\n",
      "       'Sale Condition_2', 'Bsmt Bath_2', 'Total Bath_2', 'Porch SF_2',\n",
      "       'Total House SF_2', 'Sold Time_2'],\n",
      "      dtype='object', length=168)\n",
      "168\n"
     ]
    }
   ],
   "source": [
    "print('dimension of X_2house:',X_2house.shape)\n",
    "print('dimension of y_2House:',y_2house.shape)\n",
    "print(X_2house.columns)\n",
    "print(len(X_2house.columns))"
   ]
  },
  {
   "cell_type": "markdown",
   "metadata": {},
   "source": [
    "## Now use the 2nd different way prepared data\n",
    "\n",
    "### policy: combine several attributes and create new (e.g. the Square-footage of the whole house, the total rooms....etc)"
   ]
  },
  {
   "cell_type": "markdown",
   "metadata": {},
   "source": [
    "### Set up the train-test split in sklearn"
   ]
  },
  {
   "cell_type": "code",
   "execution_count": 10,
   "metadata": {},
   "outputs": [],
   "source": [
    "from sklearn.model_selection import train_test_split\n",
    "X_train, X_test, y_train, y_test = train_test_split(X_2house, y_2house, test_size=0.5, random_state=12)"
   ]
  },
  {
   "cell_type": "code",
   "execution_count": 11,
   "metadata": {},
   "outputs": [
    {
     "name": "stdout",
     "output_type": "stream",
     "text": [
      "(2145492, 168)\n",
      "(2145492,)\n",
      "(2145493, 168)\n",
      "(2145493,)\n"
     ]
    }
   ],
   "source": [
    "print(X_train.shape)\n",
    "print(y_train.shape)\n",
    "print(X_test.shape)\n",
    "print(y_test.shape)"
   ]
  },
  {
   "cell_type": "code",
   "execution_count": 12,
   "metadata": {},
   "outputs": [
    {
     "name": "stdout",
     "output_type": "stream",
     "text": [
      "<class 'pandas.core.frame.DataFrame'>\n"
     ]
    },
    {
     "data": {
      "text/html": [
       "<div>\n",
       "<style scoped>\n",
       "    .dataframe tbody tr th:only-of-type {\n",
       "        vertical-align: middle;\n",
       "    }\n",
       "\n",
       "    .dataframe tbody tr th {\n",
       "        vertical-align: top;\n",
       "    }\n",
       "\n",
       "    .dataframe thead th {\n",
       "        text-align: right;\n",
       "    }\n",
       "</style>\n",
       "<table border=\"1\" class=\"dataframe\">\n",
       "  <thead>\n",
       "    <tr style=\"text-align: right;\">\n",
       "      <th></th>\n",
       "      <th>MS SubClass</th>\n",
       "      <th>MS Zoning</th>\n",
       "      <th>Lot Frontage</th>\n",
       "      <th>Lot Area</th>\n",
       "      <th>Street</th>\n",
       "      <th>Alley</th>\n",
       "      <th>Lot Shape</th>\n",
       "      <th>Land Contour</th>\n",
       "      <th>Utilities</th>\n",
       "      <th>Lot Config</th>\n",
       "      <th>...</th>\n",
       "      <th>Misc Val_2</th>\n",
       "      <th>Mo Sold_2</th>\n",
       "      <th>Yr Sold_2</th>\n",
       "      <th>Sale Type_2</th>\n",
       "      <th>Sale Condition_2</th>\n",
       "      <th>Bsmt Bath_2</th>\n",
       "      <th>Total Bath_2</th>\n",
       "      <th>Porch SF_2</th>\n",
       "      <th>Total House SF_2</th>\n",
       "      <th>Sold Time_2</th>\n",
       "    </tr>\n",
       "    <tr>\n",
       "      <th>Order</th>\n",
       "      <th></th>\n",
       "      <th></th>\n",
       "      <th></th>\n",
       "      <th></th>\n",
       "      <th></th>\n",
       "      <th></th>\n",
       "      <th></th>\n",
       "      <th></th>\n",
       "      <th></th>\n",
       "      <th></th>\n",
       "      <th></th>\n",
       "      <th></th>\n",
       "      <th></th>\n",
       "      <th></th>\n",
       "      <th></th>\n",
       "      <th></th>\n",
       "      <th></th>\n",
       "      <th></th>\n",
       "      <th></th>\n",
       "      <th></th>\n",
       "      <th></th>\n",
       "    </tr>\n",
       "  </thead>\n",
       "  <tbody>\n",
       "    <tr>\n",
       "      <th>221331</th>\n",
       "      <td>60.0</td>\n",
       "      <td>4.0</td>\n",
       "      <td>70.0</td>\n",
       "      <td>11218.0</td>\n",
       "      <td>1.0</td>\n",
       "      <td>1.0</td>\n",
       "      <td>3.0</td>\n",
       "      <td>3.0</td>\n",
       "      <td>4.0</td>\n",
       "      <td>4.0</td>\n",
       "      <td>...</td>\n",
       "      <td>0.0</td>\n",
       "      <td>8.0</td>\n",
       "      <td>2007.0</td>\n",
       "      <td>0.0</td>\n",
       "      <td>3.0</td>\n",
       "      <td>0.333333</td>\n",
       "      <td>3.0</td>\n",
       "      <td>0.032097</td>\n",
       "      <td>4393.0</td>\n",
       "      <td>20.0</td>\n",
       "    </tr>\n",
       "    <tr>\n",
       "      <th>4201490</th>\n",
       "      <td>160.0</td>\n",
       "      <td>3.0</td>\n",
       "      <td>30.0</td>\n",
       "      <td>3180.0</td>\n",
       "      <td>1.0</td>\n",
       "      <td>2.0</td>\n",
       "      <td>3.0</td>\n",
       "      <td>3.0</td>\n",
       "      <td>4.0</td>\n",
       "      <td>4.0</td>\n",
       "      <td>...</td>\n",
       "      <td>0.0</td>\n",
       "      <td>6.0</td>\n",
       "      <td>2006.0</td>\n",
       "      <td>0.0</td>\n",
       "      <td>3.0</td>\n",
       "      <td>0.000000</td>\n",
       "      <td>1.0</td>\n",
       "      <td>0.000000</td>\n",
       "      <td>2999.0</td>\n",
       "      <td>6.0</td>\n",
       "    </tr>\n",
       "  </tbody>\n",
       "</table>\n",
       "<p>2 rows × 168 columns</p>\n",
       "</div>"
      ],
      "text/plain": [
       "         MS SubClass  MS Zoning  Lot Frontage  Lot Area  Street  Alley  \\\n",
       "Order                                                                    \n",
       "221331          60.0        4.0          70.0   11218.0     1.0    1.0   \n",
       "4201490        160.0        3.0          30.0    3180.0     1.0    2.0   \n",
       "\n",
       "         Lot Shape  Land Contour  Utilities  Lot Config     ...       \\\n",
       "Order                                                       ...        \n",
       "221331         3.0           3.0        4.0         4.0     ...        \n",
       "4201490        3.0           3.0        4.0         4.0     ...        \n",
       "\n",
       "         Misc Val_2  Mo Sold_2  Yr Sold_2  Sale Type_2  Sale Condition_2  \\\n",
       "Order                                                                      \n",
       "221331          0.0        8.0     2007.0          0.0               3.0   \n",
       "4201490         0.0        6.0     2006.0          0.0               3.0   \n",
       "\n",
       "         Bsmt Bath_2  Total Bath_2  Porch SF_2  Total House SF_2  Sold Time_2  \n",
       "Order                                                                          \n",
       "221331      0.333333           3.0    0.032097            4393.0         20.0  \n",
       "4201490     0.000000           1.0    0.000000            2999.0          6.0  \n",
       "\n",
       "[2 rows x 168 columns]"
      ]
     },
     "execution_count": 12,
     "metadata": {},
     "output_type": "execute_result"
    }
   ],
   "source": [
    "print(type(X_train))\n",
    "X_train.head(2)"
   ]
  },
  {
   "cell_type": "code",
   "execution_count": 13,
   "metadata": {},
   "outputs": [
    {
     "name": "stdout",
     "output_type": "stream",
     "text": [
      "[ -3350.  34000.]\n"
     ]
    }
   ],
   "source": [
    "print(y_train[0:2])"
   ]
  },
  {
   "cell_type": "markdown",
   "metadata": {},
   "source": [
    "## Setup a RF(Random Forest) model"
   ]
  },
  {
   "cell_type": "code",
   "execution_count": 14,
   "metadata": {},
   "outputs": [],
   "source": [
    "from sklearn.ensemble import RandomForestRegressor\n",
    "RF_model02 = RandomForestRegressor(random_state=12)"
   ]
  },
  {
   "cell_type": "code",
   "execution_count": 15,
   "metadata": {},
   "outputs": [
    {
     "data": {
      "text/plain": [
       "RandomForestRegressor(bootstrap=True, criterion='mse', max_depth=None,\n",
       "           max_features='auto', max_leaf_nodes=None,\n",
       "           min_impurity_decrease=0.0, min_impurity_split=None,\n",
       "           min_samples_leaf=1, min_samples_split=2,\n",
       "           min_weight_fraction_leaf=0.0, n_estimators=10, n_jobs=1,\n",
       "           oob_score=False, random_state=12, verbose=0, warm_start=False)"
      ]
     },
     "execution_count": 15,
     "metadata": {},
     "output_type": "execute_result"
    }
   ],
   "source": [
    "RF_model02.fit(X_train,y_train)"
   ]
  },
  {
   "cell_type": "code",
   "execution_count": 16,
   "metadata": {},
   "outputs": [
    {
     "name": "stdout",
     "output_type": "stream",
     "text": [
      "training score of RandomForest: 1.0\n",
      "test score of RandomForest: 1.0\n"
     ]
    }
   ],
   "source": [
    "pred_train_RF = RF_model02.predict(X_train)\n",
    "print('training score of RandomForest:',RF_model02.score(X_train,pred_train_RF))\n",
    "pred_test_RF = RF_model02.predict(X_test)\n",
    "print('test score of RandomForest:',RF_model02.score(X_test,pred_test_RF))"
   ]
  },
  {
   "cell_type": "code",
   "execution_count": 17,
   "metadata": {},
   "outputs": [
    {
     "name": "stdout",
     "output_type": "stream",
     "text": [
      "MSE score(training): 23336202.7745\n",
      "MAE score(training): 3099.82624842\n",
      "MSE score: 112713283.59\n",
      "MAE score: 7127.69311588\n"
     ]
    }
   ],
   "source": [
    "# access several benchmark RMSE for reference:\n",
    "from sklearn import metrics\n",
    "print('MSE score(training):',metrics.mean_squared_error(y_train, pred_train_RF))\n",
    "print('MAE score(training):',metrics.mean_absolute_error(y_train, pred_train_RF))\n",
    "print('MSE score:',metrics.mean_squared_error(y_test, pred_test_RF))\n",
    "print('MAE score:',metrics.mean_absolute_error(y_test, pred_test_RF))"
   ]
  },
  {
   "cell_type": "code",
   "execution_count": 19,
   "metadata": {},
   "outputs": [
    {
     "data": {
      "image/png": "[encoded data removed]",
      "text/plain": [
       "<Figure size 432x288 with 1 Axes>"
      ]
     },
     "metadata": {},
     "output_type": "display_data"
    }
   ],
   "source": [
    "## Plotting the predicted price difference and the true price difference\n",
    "import matplotlib.pyplot as plt\n",
    "plt.scatter(pred_test_RF,y_test, s=5)\n",
    "plt.title('test data prediction')\n",
    "plt.xlabel('predicted')\n",
    "plt.ylabel('true')\n",
    "plt.show()"
   ]
  },
  {
   "cell_type": "code",
   "execution_count": 20,
   "metadata": {},
   "outputs": [
    {
     "data": {
      "image/png": "[encoded data removed]",
      "text/plain": [
       "<Figure size 432x288 with 1 Axes>"
      ]
     },
     "metadata": {},
     "output_type": "display_data"
    }
   ],
   "source": [
    "plt.scatter(pred_train_RF,y_train, s=5)\n",
    "plt.title('train data prediction')\n",
    "plt.xlabel('predicted')\n",
    "plt.ylabel('true')\n",
    "plt.show()"
   ]
  },
  {
   "cell_type": "code",
   "execution_count": 22,
   "metadata": {},
   "outputs": [
    {
     "name": "stdout",
     "output_type": "stream",
     "text": [
      "MS SubClass 0.000429812024534\n",
      "MS Zoning 0.000650526667307\n",
      "Lot Frontage 0.00191344906367\n",
      "Lot Area 0.00512265283912\n",
      "Street 3.83259461925e-06\n",
      "Alley 6.30428667632e-05\n",
      "Lot Shape 0.000221369976126\n",
      "Land Contour 0.000821236252623\n",
      "Utilities 2.02918347805e-07\n",
      "Lot Config 0.000430906587022\n",
      "Land Slope 6.84297243299e-05\n",
      "Neighborhood 0.000891147316223\n",
      "Condition 1 0.00020524715273\n",
      "Condition 2 4.22935546853e-06\n",
      "Bldg Type 5.30159705214e-05\n",
      "House Style 8.96951437579e-05\n",
      "Overall Qual 0.284978929434\n",
      "Overall Cond 0.00138715675336\n",
      "Year Built 0.0145052101368\n",
      "Year Remod/Add 0.00535352420786\n",
      "Roof Style 0.000278086687178\n",
      "Roof Matl 3.61552260957e-05\n",
      "Exterior 1st 0.000479140431022\n",
      "Exterior 2nd 0.000602383612907\n",
      "Mas Vnr Type 0.000201865810799\n",
      "Mas Vnr Area 0.00121857314986\n",
      "Exter Qual 0.000315315894886\n",
      "Exter Cond 0.000150783648053\n",
      "Foundation 0.000253320320067\n",
      "Bsmt Qual 0.000342408407162\n",
      "Bsmt Cond 0.000283521218107\n",
      "Bsmt Exposure 0.000867207835733\n",
      "BsmtFin Type 1 0.000775717132106\n",
      "BsmtFin SF 1 0.00247303554505\n",
      "BsmtFin Type 2 8.10764742833e-05\n",
      "BsmtFin SF 2 6.74135202466e-05\n",
      "Bsmt Unf SF 0.00337821097564\n",
      "Total Bsmt SF 0.00276551751026\n",
      "Heating 2.23718435015e-05\n",
      "Heating QC 0.000353895079996\n",
      "Central Air 0.00185806540069\n",
      "Electrical 0.00013474860847\n",
      "1st Flr SF 0.00113721101867\n",
      "2nd Flr SF 0.000639191383995\n",
      "Low Qual Fin SF 1.0263037001e-05\n",
      "Gr Liv Area 0.0136411160743\n",
      "Bsmt Full Bath 0.000172191668667\n",
      "Bsmt Half Bath 6.89744666434e-05\n",
      "Full Bath 0.000554596753548\n",
      "Half Bath 0.000243816279023\n",
      "Bedroom AbvGr 0.000267889490047\n",
      "Kitchen AbvGr 8.64033307731e-05\n",
      "Kitchen Qual 0.00150232550384\n",
      "TotRms AbvGrd 0.00342988595734\n",
      "Functional 0.000155548935767\n",
      "Fireplaces 0.000394811058935\n",
      "Fireplace Qu 0.000520988405956\n",
      "Garage Type 0.000429284222963\n",
      "Garage Yr Blt 0.00171814036735\n",
      "Garage Finish 0.000381282597969\n",
      "Garage Cars 0.0014549001615\n",
      "Garage Area 0.00609525411114\n",
      "Garage Qual 7.09982386578e-05\n",
      "Garage Cond 0.000204866926939\n",
      "Paved Drive 0.000119510960833\n",
      "Wood Deck SF 0.000958671985632\n",
      "Open Porch SF 0.00151985170131\n",
      "Enclosed Porch 0.00017055230587\n",
      "3Ssn Porch 1.59889529103e-05\n",
      "Screen Porch 0.000146644084438\n",
      "Pool Area 1.17045814519e-05\n",
      "Pool QC 5.73512333693e-06\n",
      "Fence 0.000140429490658\n",
      "Misc Feature 1.27987273529e-05\n",
      "Misc Val 2.92799111248e-05\n",
      "Mo Sold 0.000989446792216\n",
      "Yr Sold 0.000257955611134\n",
      "Sale Type 0.000134234195868\n",
      "Sale Condition 0.00206939302167\n",
      "Bsmt Bath 0.000239965769984\n",
      "Total Bath 0.00172206395902\n",
      "Porch SF 0.00119883303434\n",
      "Total House SF 0.133181352956\n",
      "Sold Time 0.00165198715689\n",
      "MS SubClass_2 0.000555033323943\n",
      "MS Zoning_2 0.000432278818874\n",
      "Lot Frontage_2 0.00292154786646\n",
      "Lot Area_2 0.00508632119222\n",
      "Street_2 3.20016429476e-06\n",
      "Alley_2 0.000129091650543\n",
      "Lot Shape_2 0.000226971296748\n",
      "Land Contour_2 0.00336978305288\n",
      "Utilities_2 1.08768297335e-06\n",
      "Lot Config_2 0.000385831401717\n",
      "Land Slope_2 0.000368579174977\n",
      "Neighborhood_2 0.00156690468986\n",
      "Condition 1_2 0.000127288247745\n",
      "Condition 2_2 6.73741075184e-06\n",
      "Bldg Type_2 0.000107879179422\n",
      "House Style_2 0.000307449346936\n",
      "Overall Qual_2 0.248684934377\n",
      "Overall Cond_2 0.00173319623795\n",
      "Year Built_2 0.0030780175022\n",
      "Year Remod/Add_2 0.00222630262285\n",
      "Roof Style_2 0.000457029885091\n",
      "Roof Matl_2 0.000189828727005\n",
      "Exterior 1st_2 0.000548113611022\n",
      "Exterior 2nd_2 0.000477998078029\n",
      "Mas Vnr Type_2 0.000434574996493\n",
      "Mas Vnr Area_2 0.00104317463392\n",
      "Exter Qual_2 0.000728968383086\n",
      "Exter Cond_2 0.0001500363607\n",
      "Foundation_2 0.000145818249389\n",
      "Bsmt Qual_2 0.00342277929138\n",
      "Bsmt Cond_2 8.59046846301e-05\n",
      "Bsmt Exposure_2 0.00039321615692\n",
      "BsmtFin Type 1_2 0.000468314533466\n",
      "BsmtFin SF 1_2 0.000965235345724\n",
      "BsmtFin Type 2_2 6.37469067857e-05\n",
      "BsmtFin SF 2_2 5.76294009316e-05\n",
      "Bsmt Unf SF_2 0.00570728293863\n",
      "Total Bsmt SF_2 0.00223285326369\n",
      "Heating_2 4.37581200297e-05\n",
      "Heating QC_2 0.000516358020408\n",
      "Central Air_2 0.000320424339072\n",
      "Electrical_2 7.28926357714e-05\n",
      "1st Flr SF_2 0.00126028724184\n",
      "2nd Flr SF_2 0.00694380453036\n",
      "Low Qual Fin SF_2 2.94716427251e-05\n",
      "Gr Liv Area_2 0.0145201106542\n",
      "Bsmt Full Bath_2 0.000148955119031\n",
      "Bsmt Half Bath_2 0.000103554759151\n",
      "Full Bath_2 0.000248898200036\n",
      "Half Bath_2 0.000195163474704\n",
      "Bedroom AbvGr_2 0.000296063046666\n",
      "Kitchen AbvGr_2 3.0883575448e-05\n",
      "Kitchen Qual_2 0.0128430768421\n",
      "TotRms AbvGrd_2 0.000684573326915\n",
      "Functional_2 0.000159986456518\n",
      "Fireplaces_2 0.000964058610568\n",
      "Fireplace Qu_2 0.00111814863341\n",
      "Garage Type_2 0.000903977606276\n",
      "Garage Yr Blt_2 0.00149100084544\n",
      "Garage Finish_2 0.000348649172216\n",
      "Garage Cars_2 0.00339452179973\n",
      "Garage Area_2 0.0045401253194\n",
      "Garage Qual_2 0.000359141735083\n",
      "Garage Cond_2 0.000161470135657\n",
      "Paved Drive_2 0.000434720373568\n",
      "Wood Deck SF_2 0.000792160249546\n",
      "Open Porch SF_2 0.000944802401377\n",
      "Enclosed Porch_2 0.000611739901052\n",
      "3Ssn Porch_2 1.88717795708e-05\n",
      "Screen Porch_2 0.00017261033603\n",
      "Pool Area_2 4.84010795715e-06\n",
      "Pool QC_2 3.78340234487e-06\n",
      "Fence_2 0.000169033891748\n",
      "Misc Feature_2 1.35031146277e-05\n",
      "Misc Val_2 2.27588056327e-05\n",
      "Mo Sold_2 0.00133285988032\n",
      "Yr Sold_2 0.00026221219057\n",
      "Sale Type_2 0.000169340763904\n",
      "Sale Condition_2 0.000292951531603\n",
      "Bsmt Bath_2 0.000158583759421\n",
      "Total Bath_2 0.0143047516762\n",
      "Porch SF_2 0.00069179204434\n",
      "Total House SF_2 0.126077513231\n",
      "Sold Time_2 0.00104210239952\n"
     ]
    },
    {
     "data": {
      "image/png": "[encoded data removed]",
      "text/plain": [
       "<Figure size 1440x360 with 1 Axes>"
      ]
     },
     "metadata": {},
     "output_type": "display_data"
    }
   ],
   "source": [
    "# Take a look at feature importance\n",
    "f_importance = pd.DataFrame({'feature':X_2house.columns, 'importance':RF_model02.feature_importances_})\n",
    "#plot histogram\n",
    "x_tick_label=[None]*168\n",
    "hist_val=np.zeros(168)\n",
    "for i in range(0,168):\n",
    "    hist_val[i] = f_importance.values[i][1]\n",
    "    x_tick_label[i] = f_importance.values[i][0]\n",
    "    print(x_tick_label[i],hist_val[i])\n",
    "    \n",
    "index = np.arange(168)+1\n",
    "fig, ax = plt.subplots(figsize=(20,5))\n",
    "ax.bar(index,hist_val, .3, color='r')\n",
    "ax.set_xticks(range(1, 168, 1))\n",
    "ax.set_xticklabels(x_tick_label, rotation='vertical')\n",
    "plt.show()"
   ]
  },
  {
   "cell_type": "markdown",
   "metadata": {},
   "source": [
    "## Run a cross-validation to know the RF_model02 performance."
   ]
  },
  {
   "cell_type": "code",
   "execution_count": 28,
   "metadata": {},
   "outputs": [],
   "source": [
    "import numpy as np\n",
    "from sklearn.model_selection import KFold, cross_val_score\n",
    "k_fold = KFold(n_splits=20)"
   ]
  },
  {
   "cell_type": "code",
   "execution_count": null,
   "metadata": {},
   "outputs": [
    {
     "name": "stdout",
     "output_type": "stream",
     "text": [
      "[CV]  ................................................................\n",
      "[CV] ...................... , score=-115414676.16106942, total=28.1min\n"
     ]
    },
    {
     "name": "stderr",
     "output_type": "stream",
     "text": [
      "[Parallel(n_jobs=1)]: Done   1 out of   1 | elapsed: 28.2min remaining:    0.0s\n"
     ]
    },
    {
     "name": "stdout",
     "output_type": "stream",
     "text": [
      "[CV]  ................................................................\n",
      "[CV] ...................... , score=-118767338.51408249, total=27.6min\n",
      "[CV]  ................................................................\n"
     ]
    },
    {
     "name": "stderr",
     "output_type": "stream",
     "text": [
      "[Parallel(n_jobs=1)]: Done   2 out of   2 | elapsed: 55.8min remaining:    0.0s\n"
     ]
    },
    {
     "name": "stdout",
     "output_type": "stream",
     "text": [
      "[CV] ...................... , score=-118191236.70367388, total=25.8min\n",
      "[CV]  ................................................................\n"
     ]
    },
    {
     "name": "stderr",
     "output_type": "stream",
     "text": [
      "[Parallel(n_jobs=1)]: Done   3 out of   3 | elapsed: 81.7min remaining:    0.0s\n"
     ]
    },
    {
     "name": "stdout",
     "output_type": "stream",
     "text": [
      "[CV] ...................... , score=-116778915.86337687, total=25.1min\n",
      "[CV]  ................................................................\n"
     ]
    },
    {
     "name": "stderr",
     "output_type": "stream",
     "text": [
      "[Parallel(n_jobs=1)]: Done   4 out of   4 | elapsed: 106.7min remaining:    0.0s\n"
     ]
    },
    {
     "name": "stdout",
     "output_type": "stream",
     "text": [
      "[CV] ...................... , score=-115720593.89101017, total=24.6min\n",
      "[CV]  ................................................................\n"
     ]
    },
    {
     "name": "stderr",
     "output_type": "stream",
     "text": [
      "[Parallel(n_jobs=1)]: Done   5 out of   5 | elapsed: 131.3min remaining:    0.0s\n"
     ]
    },
    {
     "name": "stdout",
     "output_type": "stream",
     "text": [
      "[CV] ...................... , score=-115634649.50730078, total=22.8min\n",
      "[CV]  ................................................................\n"
     ]
    },
    {
     "name": "stderr",
     "output_type": "stream",
     "text": [
      "[Parallel(n_jobs=1)]: Done   6 out of   6 | elapsed: 154.1min remaining:    0.0s\n"
     ]
    },
    {
     "name": "stdout",
     "output_type": "stream",
     "text": [
      "[CV] ....................... , score=-113938478.7419592, total=21.7min\n",
      "[CV]  ................................................................\n"
     ]
    },
    {
     "name": "stderr",
     "output_type": "stream",
     "text": [
      "[Parallel(n_jobs=1)]: Done   7 out of   7 | elapsed: 175.9min remaining:    0.0s\n"
     ]
    },
    {
     "name": "stdout",
     "output_type": "stream",
     "text": [
      "[CV] ...................... , score=-115218043.07122408, total=21.7min\n",
      "[CV]  ................................................................\n"
     ]
    },
    {
     "name": "stderr",
     "output_type": "stream",
     "text": [
      "[Parallel(n_jobs=1)]: Done   8 out of   8 | elapsed: 197.5min remaining:    0.0s\n"
     ]
    },
    {
     "name": "stdout",
     "output_type": "stream",
     "text": [
      "[CV] ...................... , score=-115517876.18313321, total=21.7min\n",
      "[CV]  ................................................................\n"
     ]
    },
    {
     "name": "stderr",
     "output_type": "stream",
     "text": [
      "[Parallel(n_jobs=1)]: Done   9 out of   9 | elapsed: 219.3min remaining:    0.0s\n"
     ]
    },
    {
     "name": "stdout",
     "output_type": "stream",
     "text": [
      "[CV] ...................... , score=-115713663.03527823, total=21.6min\n",
      "[CV]  ................................................................\n",
      "[CV] ...................... , score=-113363103.30314304, total=21.7min\n",
      "[CV]  ................................................................\n",
      "[CV] ...................... , score=-113181144.94672844, total=21.7min\n",
      "[CV]  ................................................................\n",
      "[CV] ...................... , score=-114778189.54120211, total=21.4min\n",
      "[CV]  ................................................................\n",
      "[CV] ...................... , score=-115317853.89778566, total=20.7min\n",
      "[CV]  ................................................................\n"
     ]
    }
   ],
   "source": [
    "k_fold.get_n_splits(X_train)\n",
    "scores = np.sqrt(-1*cross_val_score(RF_model02, X_train, y_train, cv=20,verbose=10,scoring = 'neg_mean_squared_error'))\n",
    "print('Cross-validated scores:', scores)"
   ]
  },
  {
   "cell_type": "code",
   "execution_count": 32,
   "metadata": {},
   "outputs": [
    {
     "name": "stdout",
     "output_type": "stream",
     "text": [
      "Mean Cross-validation scores of MSE: 53263.1307391\n"
     ]
    }
   ],
   "source": [
    "print('Mean Cross-validation scores of MSE:',np.mean(scores))"
   ]
  },
  {
   "cell_type": "code",
   "execution_count": 38,
   "metadata": {},
   "outputs": [
    {
     "data": {
      "text/plain": [
       "DescribeResult(nobs=20, minmax=(46188.077511158765, 72043.115563603205), mean=53263.130739140171, variance=56831459.222560018, skewness=1.267815975506349, kurtosis=0.30801714300650707)"
      ]
     },
     "execution_count": 38,
     "metadata": {},
     "output_type": "execute_result"
    }
   ],
   "source": [
    "from scipy import stats\n",
    "stats.describe(scores)"
   ]
  }
 ],
 "metadata": {
  "kernelspec": {
   "display_name": "Python 3",
   "language": "python",
   "name": "python3"
  },
  "language_info": {
   "codemirror_mode": {
    "name": "ipython",
    "version": 3
   },
   "file_extension": ".py",
   "mimetype": "text/x-python",
   "name": "python",
   "nbconvert_exporter": "python",
   "pygments_lexer": "ipython3",
   "version": "3.6.5"
  }
 },
 "nbformat": 4,
 "nbformat_minor": 2
}

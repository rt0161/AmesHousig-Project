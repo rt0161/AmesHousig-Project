{
 "cells": [
  {
   "cell_type": "code",
   "execution_count": 1,
   "metadata": {},
   "outputs": [],
   "source": [
    "import pandas as pd\n",
    "import numpy as np"
   ]
  },
  {
   "cell_type": "code",
   "execution_count": 2,
   "metadata": {},
   "outputs": [],
   "source": [
    "X_2house = pd.read_csv('/wgdisk/ho0338/ek79/Tien/X_2house_v0.csv')\n",
    "X_2house=X_2house.drop(columns=['Unnamed: 0'])\n",
    "X_2house.index.rename('Order', inplace=True)"
   ]
  },
  {
   "cell_type": "code",
   "execution_count": 3,
   "metadata": {},
   "outputs": [],
   "source": [
    "y_2house = np.load('y_2house.npy')"
   ]
  },
  {
   "cell_type": "markdown",
   "metadata": {},
   "source": [
    "## Now test on 1st different way of preparing data\n",
    "\n",
    "### policy: drop the unecessary attributes (based on previous LR and RF models)"
   ]
  },
  {
   "cell_type": "code",
   "execution_count": 4,
   "metadata": {},
   "outputs": [
    {
     "name": "stdout",
     "output_type": "stream",
     "text": [
      "['Condition 2', 'Year Remod/Add', 'Exter Qual', 'Bsmt Unf SF', '1st Flr SF', '2nd Flr SF', 'Gr Liv Area', 'BsmtFin Type 2', 'Bsmt Unf SF', 'Full Bath', 'Half Bath', 'Kitchen AbvGr', 'Garage Cond', 'Garage Cars', 'Wood Deck SF', 'Pool QC', 'Misc Feature', 'Sale Condition', 'Condition 2_2', 'Year Remod/Add_2', 'Exter Qual_2', 'Bsmt Unf SF_2', '1st Flr SF_2', '2nd Flr SF_2', 'Gr Liv Area_2', 'BsmtFin Type 2_2', 'Bsmt Unf SF_2', 'Full Bath_2', 'Half Bath_2', 'Kitchen AbvGr_2', 'Garage Cond_2', 'Garage Cars_2', 'Wood Deck SF_2', 'Pool QC_2', 'Misc Feature_2', 'Sale Condition_2']\n"
     ]
    }
   ],
   "source": [
    "col_pres=['Condition 2','Year Remod/Add','Exter Qual','Bsmt Unf SF','1st Flr SF','2nd Flr SF','Gr Liv Area','BsmtFin Type 2','Bsmt Unf SF','Full Bath','Half Bath','Kitchen AbvGr','Garage Cond','Garage Cars','Wood Deck SF','Pool QC','Misc Feature','Sale Condition']\n",
    "col_pres2=[]\n",
    "for item in col_pres:\n",
    "    k = item+'_2'\n",
    "    col_pres2.append(k)\n",
    "new_col= col_pres+col_pres2\n",
    "print(new_col)"
   ]
  },
  {
   "cell_type": "code",
   "execution_count": 5,
   "metadata": {},
   "outputs": [
    {
     "name": "stdout",
     "output_type": "stream",
     "text": [
      "Index(['Condition 2', 'Year Remod/Add', 'Exter Qual', 'Bsmt Unf SF',\n",
      "       '1st Flr SF', '2nd Flr SF', 'Gr Liv Area', 'BsmtFin Type 2',\n",
      "       'Bsmt Unf SF', 'Full Bath', 'Half Bath', 'Kitchen AbvGr', 'Garage Cond',\n",
      "       'Garage Cars', 'Wood Deck SF', 'Pool QC', 'Misc Feature',\n",
      "       'Sale Condition', 'Condition 2_2', 'Year Remod/Add_2', 'Exter Qual_2',\n",
      "       'Bsmt Unf SF_2', '1st Flr SF_2', '2nd Flr SF_2', 'Gr Liv Area_2',\n",
      "       'BsmtFin Type 2_2', 'Bsmt Unf SF_2', 'Full Bath_2', 'Half Bath_2',\n",
      "       'Kitchen AbvGr_2', 'Garage Cond_2', 'Garage Cars_2', 'Wood Deck SF_2',\n",
      "       'Pool QC_2', 'Misc Feature_2', 'Sale Condition_2'],\n",
      "      dtype='object')\n",
      "36\n"
     ]
    }
   ],
   "source": [
    "X_2house=X_2house[new_col]\n",
    "print(X_2house.columns)\n",
    "print(len(X_2house.columns))"
   ]
  },
  {
   "cell_type": "code",
   "execution_count": 6,
   "metadata": {},
   "outputs": [
    {
     "data": {
      "text/html": [
       "<div>\n",
       "<style scoped>\n",
       "    .dataframe tbody tr th:only-of-type {\n",
       "        vertical-align: middle;\n",
       "    }\n",
       "\n",
       "    .dataframe tbody tr th {\n",
       "        vertical-align: top;\n",
       "    }\n",
       "\n",
       "    .dataframe thead th {\n",
       "        text-align: right;\n",
       "    }\n",
       "</style>\n",
       "<table border=\"1\" class=\"dataframe\">\n",
       "  <thead>\n",
       "    <tr style=\"text-align: right;\">\n",
       "      <th></th>\n",
       "      <th>Condition 2</th>\n",
       "      <th>Year Remod/Add</th>\n",
       "      <th>Exter Qual</th>\n",
       "      <th>Bsmt Unf SF</th>\n",
       "      <th>1st Flr SF</th>\n",
       "      <th>2nd Flr SF</th>\n",
       "      <th>Gr Liv Area</th>\n",
       "      <th>BsmtFin Type 2</th>\n",
       "      <th>Bsmt Unf SF</th>\n",
       "      <th>Full Bath</th>\n",
       "      <th>...</th>\n",
       "      <th>Bsmt Unf SF_2</th>\n",
       "      <th>Full Bath_2</th>\n",
       "      <th>Half Bath_2</th>\n",
       "      <th>Kitchen AbvGr_2</th>\n",
       "      <th>Garage Cond_2</th>\n",
       "      <th>Garage Cars_2</th>\n",
       "      <th>Wood Deck SF_2</th>\n",
       "      <th>Pool QC_2</th>\n",
       "      <th>Misc Feature_2</th>\n",
       "      <th>Sale Condition_2</th>\n",
       "    </tr>\n",
       "    <tr>\n",
       "      <th>Order</th>\n",
       "      <th></th>\n",
       "      <th></th>\n",
       "      <th></th>\n",
       "      <th></th>\n",
       "      <th></th>\n",
       "      <th></th>\n",
       "      <th></th>\n",
       "      <th></th>\n",
       "      <th></th>\n",
       "      <th></th>\n",
       "      <th></th>\n",
       "      <th></th>\n",
       "      <th></th>\n",
       "      <th></th>\n",
       "      <th></th>\n",
       "      <th></th>\n",
       "      <th></th>\n",
       "      <th></th>\n",
       "      <th></th>\n",
       "      <th></th>\n",
       "      <th></th>\n",
       "    </tr>\n",
       "  </thead>\n",
       "  <tbody>\n",
       "    <tr>\n",
       "      <th>0</th>\n",
       "      <td>2.0</td>\n",
       "      <td>1960.0</td>\n",
       "      <td>3.0</td>\n",
       "      <td>441.0</td>\n",
       "      <td>1656.0</td>\n",
       "      <td>0.0</td>\n",
       "      <td>1656.0</td>\n",
       "      <td>1.0</td>\n",
       "      <td>441.0</td>\n",
       "      <td>1.0</td>\n",
       "      <td>...</td>\n",
       "      <td>270.0</td>\n",
       "      <td>1.0</td>\n",
       "      <td>0.0</td>\n",
       "      <td>1.0</td>\n",
       "      <td>3.0</td>\n",
       "      <td>1.0</td>\n",
       "      <td>140.0</td>\n",
       "      <td>-1.0</td>\n",
       "      <td>0.0</td>\n",
       "      <td>3.0</td>\n",
       "    </tr>\n",
       "    <tr>\n",
       "      <th>1</th>\n",
       "      <td>2.0</td>\n",
       "      <td>1960.0</td>\n",
       "      <td>3.0</td>\n",
       "      <td>441.0</td>\n",
       "      <td>1656.0</td>\n",
       "      <td>0.0</td>\n",
       "      <td>1656.0</td>\n",
       "      <td>1.0</td>\n",
       "      <td>441.0</td>\n",
       "      <td>1.0</td>\n",
       "      <td>...</td>\n",
       "      <td>406.0</td>\n",
       "      <td>1.0</td>\n",
       "      <td>1.0</td>\n",
       "      <td>1.0</td>\n",
       "      <td>3.0</td>\n",
       "      <td>1.0</td>\n",
       "      <td>393.0</td>\n",
       "      <td>-1.0</td>\n",
       "      <td>1.0</td>\n",
       "      <td>3.0</td>\n",
       "    </tr>\n",
       "    <tr>\n",
       "      <th>2</th>\n",
       "      <td>2.0</td>\n",
       "      <td>1960.0</td>\n",
       "      <td>3.0</td>\n",
       "      <td>441.0</td>\n",
       "      <td>1656.0</td>\n",
       "      <td>0.0</td>\n",
       "      <td>1656.0</td>\n",
       "      <td>1.0</td>\n",
       "      <td>441.0</td>\n",
       "      <td>1.0</td>\n",
       "      <td>...</td>\n",
       "      <td>1045.0</td>\n",
       "      <td>2.0</td>\n",
       "      <td>1.0</td>\n",
       "      <td>1.0</td>\n",
       "      <td>3.0</td>\n",
       "      <td>2.0</td>\n",
       "      <td>0.0</td>\n",
       "      <td>-1.0</td>\n",
       "      <td>0.0</td>\n",
       "      <td>3.0</td>\n",
       "    </tr>\n",
       "    <tr>\n",
       "      <th>3</th>\n",
       "      <td>2.0</td>\n",
       "      <td>1960.0</td>\n",
       "      <td>3.0</td>\n",
       "      <td>441.0</td>\n",
       "      <td>1656.0</td>\n",
       "      <td>0.0</td>\n",
       "      <td>1656.0</td>\n",
       "      <td>1.0</td>\n",
       "      <td>441.0</td>\n",
       "      <td>1.0</td>\n",
       "      <td>...</td>\n",
       "      <td>137.0</td>\n",
       "      <td>2.0</td>\n",
       "      <td>1.0</td>\n",
       "      <td>1.0</td>\n",
       "      <td>3.0</td>\n",
       "      <td>2.0</td>\n",
       "      <td>212.0</td>\n",
       "      <td>-1.0</td>\n",
       "      <td>0.0</td>\n",
       "      <td>3.0</td>\n",
       "    </tr>\n",
       "    <tr>\n",
       "      <th>4</th>\n",
       "      <td>2.0</td>\n",
       "      <td>1960.0</td>\n",
       "      <td>3.0</td>\n",
       "      <td>441.0</td>\n",
       "      <td>1656.0</td>\n",
       "      <td>0.0</td>\n",
       "      <td>1656.0</td>\n",
       "      <td>1.0</td>\n",
       "      <td>441.0</td>\n",
       "      <td>1.0</td>\n",
       "      <td>...</td>\n",
       "      <td>324.0</td>\n",
       "      <td>2.0</td>\n",
       "      <td>1.0</td>\n",
       "      <td>1.0</td>\n",
       "      <td>3.0</td>\n",
       "      <td>2.0</td>\n",
       "      <td>360.0</td>\n",
       "      <td>-1.0</td>\n",
       "      <td>0.0</td>\n",
       "      <td>3.0</td>\n",
       "    </tr>\n",
       "  </tbody>\n",
       "</table>\n",
       "<p>5 rows × 36 columns</p>\n",
       "</div>"
      ],
      "text/plain": [
       "       Condition 2  Year Remod/Add  Exter Qual  Bsmt Unf SF  1st Flr SF  \\\n",
       "Order                                                                     \n",
       "0              2.0          1960.0         3.0        441.0      1656.0   \n",
       "1              2.0          1960.0         3.0        441.0      1656.0   \n",
       "2              2.0          1960.0         3.0        441.0      1656.0   \n",
       "3              2.0          1960.0         3.0        441.0      1656.0   \n",
       "4              2.0          1960.0         3.0        441.0      1656.0   \n",
       "\n",
       "       2nd Flr SF  Gr Liv Area  BsmtFin Type 2  Bsmt Unf SF  Full Bath  \\\n",
       "Order                                                                    \n",
       "0             0.0       1656.0             1.0        441.0        1.0   \n",
       "1             0.0       1656.0             1.0        441.0        1.0   \n",
       "2             0.0       1656.0             1.0        441.0        1.0   \n",
       "3             0.0       1656.0             1.0        441.0        1.0   \n",
       "4             0.0       1656.0             1.0        441.0        1.0   \n",
       "\n",
       "             ...         Bsmt Unf SF_2  Full Bath_2  Half Bath_2  \\\n",
       "Order        ...                                                   \n",
       "0            ...                 270.0          1.0          0.0   \n",
       "1            ...                 406.0          1.0          1.0   \n",
       "2            ...                1045.0          2.0          1.0   \n",
       "3            ...                 137.0          2.0          1.0   \n",
       "4            ...                 324.0          2.0          1.0   \n",
       "\n",
       "       Kitchen AbvGr_2  Garage Cond_2  Garage Cars_2  Wood Deck SF_2  \\\n",
       "Order                                                                  \n",
       "0                  1.0            3.0            1.0           140.0   \n",
       "1                  1.0            3.0            1.0           393.0   \n",
       "2                  1.0            3.0            2.0             0.0   \n",
       "3                  1.0            3.0            2.0           212.0   \n",
       "4                  1.0            3.0            2.0           360.0   \n",
       "\n",
       "       Pool QC_2  Misc Feature_2  Sale Condition_2  \n",
       "Order                                               \n",
       "0           -1.0             0.0               3.0  \n",
       "1           -1.0             1.0               3.0  \n",
       "2           -1.0             0.0               3.0  \n",
       "3           -1.0             0.0               3.0  \n",
       "4           -1.0             0.0               3.0  \n",
       "\n",
       "[5 rows x 36 columns]"
      ]
     },
     "execution_count": 6,
     "metadata": {},
     "output_type": "execute_result"
    }
   ],
   "source": [
    "X_2house.head()"
   ]
  },
  {
   "cell_type": "markdown",
   "metadata": {},
   "source": [
    "## preparing the data input to ML "
   ]
  },
  {
   "cell_type": "code",
   "execution_count": 7,
   "metadata": {},
   "outputs": [
    {
     "name": "stdout",
     "output_type": "stream",
     "text": [
      "dimension of X_2house: (4290985, 36)\n",
      "dimension of y_2House: (4290985,)\n",
      "Index(['Condition 2', 'Year Remod/Add', 'Exter Qual', 'Bsmt Unf SF',\n",
      "       '1st Flr SF', '2nd Flr SF', 'Gr Liv Area', 'BsmtFin Type 2',\n",
      "       'Bsmt Unf SF', 'Full Bath', 'Half Bath', 'Kitchen AbvGr', 'Garage Cond',\n",
      "       'Garage Cars', 'Wood Deck SF', 'Pool QC', 'Misc Feature',\n",
      "       'Sale Condition', 'Condition 2_2', 'Year Remod/Add_2', 'Exter Qual_2',\n",
      "       'Bsmt Unf SF_2', '1st Flr SF_2', '2nd Flr SF_2', 'Gr Liv Area_2',\n",
      "       'BsmtFin Type 2_2', 'Bsmt Unf SF_2', 'Full Bath_2', 'Half Bath_2',\n",
      "       'Kitchen AbvGr_2', 'Garage Cond_2', 'Garage Cars_2', 'Wood Deck SF_2',\n",
      "       'Pool QC_2', 'Misc Feature_2', 'Sale Condition_2'],\n",
      "      dtype='object')\n"
     ]
    }
   ],
   "source": [
    "print('dimension of X_2house:',X_2house.shape)\n",
    "print('dimension of y_2House:',y_2house.shape)\n",
    "print(X_2house.columns)"
   ]
  },
  {
   "cell_type": "code",
   "execution_count": null,
   "metadata": {},
   "outputs": [],
   "source": []
  },
  {
   "cell_type": "markdown",
   "metadata": {},
   "source": [
    "### Set up the train-test split in sklearn"
   ]
  },
  {
   "cell_type": "code",
   "execution_count": 8,
   "metadata": {},
   "outputs": [],
   "source": [
    "from sklearn.model_selection import train_test_split\n",
    "X_train, X_test, y_train, y_test = train_test_split(X_2house, y_2house, test_size=0.5, random_state=12)"
   ]
  },
  {
   "cell_type": "code",
   "execution_count": 9,
   "metadata": {},
   "outputs": [
    {
     "name": "stdout",
     "output_type": "stream",
     "text": [
      "(2145492, 36)\n",
      "(2145492,)\n",
      "(2145493, 36)\n",
      "(2145493,)\n"
     ]
    }
   ],
   "source": [
    "print(X_train.shape)\n",
    "print(y_train.shape)\n",
    "print(X_test.shape)\n",
    "print(y_test.shape)"
   ]
  },
  {
   "cell_type": "code",
   "execution_count": 10,
   "metadata": {},
   "outputs": [
    {
     "name": "stdout",
     "output_type": "stream",
     "text": [
      "<class 'pandas.core.frame.DataFrame'>\n"
     ]
    },
    {
     "data": {
      "text/html": [
       "<div>\n",
       "<style scoped>\n",
       "    .dataframe tbody tr th:only-of-type {\n",
       "        vertical-align: middle;\n",
       "    }\n",
       "\n",
       "    .dataframe tbody tr th {\n",
       "        vertical-align: top;\n",
       "    }\n",
       "\n",
       "    .dataframe thead th {\n",
       "        text-align: right;\n",
       "    }\n",
       "</style>\n",
       "<table border=\"1\" class=\"dataframe\">\n",
       "  <thead>\n",
       "    <tr style=\"text-align: right;\">\n",
       "      <th></th>\n",
       "      <th>Condition 2</th>\n",
       "      <th>Year Remod/Add</th>\n",
       "      <th>Exter Qual</th>\n",
       "      <th>Bsmt Unf SF</th>\n",
       "      <th>1st Flr SF</th>\n",
       "      <th>2nd Flr SF</th>\n",
       "      <th>Gr Liv Area</th>\n",
       "      <th>BsmtFin Type 2</th>\n",
       "      <th>Bsmt Unf SF</th>\n",
       "      <th>Full Bath</th>\n",
       "      <th>...</th>\n",
       "      <th>Bsmt Unf SF_2</th>\n",
       "      <th>Full Bath_2</th>\n",
       "      <th>Half Bath_2</th>\n",
       "      <th>Kitchen AbvGr_2</th>\n",
       "      <th>Garage Cond_2</th>\n",
       "      <th>Garage Cars_2</th>\n",
       "      <th>Wood Deck SF_2</th>\n",
       "      <th>Pool QC_2</th>\n",
       "      <th>Misc Feature_2</th>\n",
       "      <th>Sale Condition_2</th>\n",
       "    </tr>\n",
       "    <tr>\n",
       "      <th>Order</th>\n",
       "      <th></th>\n",
       "      <th></th>\n",
       "      <th></th>\n",
       "      <th></th>\n",
       "      <th></th>\n",
       "      <th></th>\n",
       "      <th></th>\n",
       "      <th></th>\n",
       "      <th></th>\n",
       "      <th></th>\n",
       "      <th></th>\n",
       "      <th></th>\n",
       "      <th></th>\n",
       "      <th></th>\n",
       "      <th></th>\n",
       "      <th></th>\n",
       "      <th></th>\n",
       "      <th></th>\n",
       "      <th></th>\n",
       "      <th></th>\n",
       "      <th></th>\n",
       "    </tr>\n",
       "  </thead>\n",
       "  <tbody>\n",
       "    <tr>\n",
       "      <th>221331</th>\n",
       "      <td>2.0</td>\n",
       "      <td>1992.0</td>\n",
       "      <td>4.0</td>\n",
       "      <td>1055.0</td>\n",
       "      <td>1055.0</td>\n",
       "      <td>790.0</td>\n",
       "      <td>1845.0</td>\n",
       "      <td>1.0</td>\n",
       "      <td>1055.0</td>\n",
       "      <td>2.0</td>\n",
       "      <td>...</td>\n",
       "      <td>356.0</td>\n",
       "      <td>2.0</td>\n",
       "      <td>0.0</td>\n",
       "      <td>1.0</td>\n",
       "      <td>3.0</td>\n",
       "      <td>2.0</td>\n",
       "      <td>240.0</td>\n",
       "      <td>-1.0</td>\n",
       "      <td>0.0</td>\n",
       "      <td>3.0</td>\n",
       "    </tr>\n",
       "    <tr>\n",
       "      <th>4201490</th>\n",
       "      <td>2.0</td>\n",
       "      <td>2005.0</td>\n",
       "      <td>3.0</td>\n",
       "      <td>600.0</td>\n",
       "      <td>520.0</td>\n",
       "      <td>600.0</td>\n",
       "      <td>1200.0</td>\n",
       "      <td>1.0</td>\n",
       "      <td>600.0</td>\n",
       "      <td>2.0</td>\n",
       "      <td>...</td>\n",
       "      <td>485.0</td>\n",
       "      <td>1.0</td>\n",
       "      <td>0.0</td>\n",
       "      <td>1.0</td>\n",
       "      <td>3.0</td>\n",
       "      <td>1.0</td>\n",
       "      <td>394.0</td>\n",
       "      <td>-1.0</td>\n",
       "      <td>0.0</td>\n",
       "      <td>3.0</td>\n",
       "    </tr>\n",
       "  </tbody>\n",
       "</table>\n",
       "<p>2 rows × 36 columns</p>\n",
       "</div>"
      ],
      "text/plain": [
       "         Condition 2  Year Remod/Add  Exter Qual  Bsmt Unf SF  1st Flr SF  \\\n",
       "Order                                                                       \n",
       "221331           2.0          1992.0         4.0       1055.0      1055.0   \n",
       "4201490          2.0          2005.0         3.0        600.0       520.0   \n",
       "\n",
       "         2nd Flr SF  Gr Liv Area  BsmtFin Type 2  Bsmt Unf SF  Full Bath  \\\n",
       "Order                                                                      \n",
       "221331        790.0       1845.0             1.0       1055.0        2.0   \n",
       "4201490       600.0       1200.0             1.0        600.0        2.0   \n",
       "\n",
       "               ...         Bsmt Unf SF_2  Full Bath_2  Half Bath_2  \\\n",
       "Order          ...                                                   \n",
       "221331         ...                 356.0          2.0          0.0   \n",
       "4201490        ...                 485.0          1.0          0.0   \n",
       "\n",
       "         Kitchen AbvGr_2  Garage Cond_2  Garage Cars_2  Wood Deck SF_2  \\\n",
       "Order                                                                    \n",
       "221331               1.0            3.0            2.0           240.0   \n",
       "4201490              1.0            3.0            1.0           394.0   \n",
       "\n",
       "         Pool QC_2  Misc Feature_2  Sale Condition_2  \n",
       "Order                                                 \n",
       "221331        -1.0             0.0               3.0  \n",
       "4201490       -1.0             0.0               3.0  \n",
       "\n",
       "[2 rows x 36 columns]"
      ]
     },
     "execution_count": 10,
     "metadata": {},
     "output_type": "execute_result"
    }
   ],
   "source": [
    "print(type(X_train))\n",
    "X_train.head(2)"
   ]
  },
  {
   "cell_type": "code",
   "execution_count": 11,
   "metadata": {},
   "outputs": [
    {
     "name": "stdout",
     "output_type": "stream",
     "text": [
      "[ -3350.  34000.]\n"
     ]
    }
   ],
   "source": [
    "print(y_train[0:2])"
   ]
  },
  {
   "cell_type": "code",
   "execution_count": 14,
   "metadata": {},
   "outputs": [],
   "source": [
    "#Rerun Xgboost: no change on parameters\n",
    "# recreate the columns in order to comply to feature uniqueness for xgb\n",
    "col_name4xgb = [str(x) for x in range(1,19)] + [str(xx) for xx in range(101,119)]\n",
    "orig_column_names = X_train.columns\n",
    "X_train.columns = col_name4xgb\n",
    "X_test.columns = col_name4xgb"
   ]
  },
  {
   "cell_type": "code",
   "execution_count": 15,
   "metadata": {},
   "outputs": [
    {
     "data": {
      "text/plain": [
       "Index(['1', '2', '3', '4', '5', '6', '7', '8', '9', '10', '11', '12', '13',\n",
       "       '14', '15', '16', '17', '18', '101', '102', '103', '104', '105', '106',\n",
       "       '107', '108', '109', '110', '111', '112', '113', '114', '115', '116',\n",
       "       '117', '118'],\n",
       "      dtype='object')"
      ]
     },
     "execution_count": 15,
     "metadata": {},
     "output_type": "execute_result"
    }
   ],
   "source": [
    "X_train.columns"
   ]
  },
  {
   "cell_type": "markdown",
   "metadata": {},
   "source": [
    "### Set up the Xgboost model"
   ]
  },
  {
   "cell_type": "code",
   "execution_count": 16,
   "metadata": {},
   "outputs": [],
   "source": [
    "import xgboost as xgb\n",
    "xgdmat=xgb.DMatrix(X_train,y_train)"
   ]
  },
  {
   "cell_type": "code",
   "execution_count": 17,
   "metadata": {},
   "outputs": [],
   "source": [
    "my_params={'eta':0.1,'seed':12,'objective':'reg:linear','max_depth':4,'min_child_weight':2}"
   ]
  },
  {
   "cell_type": "code",
   "execution_count": 18,
   "metadata": {},
   "outputs": [],
   "source": [
    "Gb_model01=xgb.train(my_params,xgdmat)"
   ]
  },
  {
   "cell_type": "code",
   "execution_count": 28,
   "metadata": {},
   "outputs": [],
   "source": [
    "tesdmat=xgb.DMatrix(X_test)\n",
    "y_pred_test_xgb=Gb_model01.predict(tesdmat)\n",
    "traindmat=xgb.DMatrix(X_train)\n",
    "y_pred_train_xgb=Gb_model01.predict(traindmat)"
   ]
  },
  {
   "cell_type": "code",
   "execution_count": 29,
   "metadata": {},
   "outputs": [
    {
     "name": "stdout",
     "output_type": "stream",
     "text": [
      "39137.7 -3350.0\n",
      "-11636.1 34000.0\n",
      "-13827.0 65500.0\n",
      "85176.0 106828.0\n",
      "13866.4 -6700.0\n",
      "20715.4 51500.0\n",
      "28010.7 134000.0\n",
      "69347.7 128500.0\n",
      "10262.8 17500.0\n",
      "-143351.0 -256000.0\n"
     ]
    }
   ],
   "source": [
    "for i in range(len(y_pred_train_xgb)):\n",
    "    if i < 10:\n",
    "        print(y_pred_train_xgb[i],y_train[i])"
   ]
  },
  {
   "cell_type": "code",
   "execution_count": 30,
   "metadata": {},
   "outputs": [
    {
     "name": "stdout",
     "output_type": "stream",
     "text": [
      "R^2 score(training): 0.634252209299\n",
      "R^2 score: 0.633534128433\n",
      "MSE score(training): 4660514746.76\n",
      "MAE score(training): 50005.4384465\n",
      "MSE score: 4679151034.82\n",
      "MAE score: 50089.9985984\n"
     ]
    }
   ],
   "source": [
    "# access several benchmark RMSE for reference:\n",
    "from sklearn import metrics\n",
    "print('R^2 score(training):',metrics.r2_score(y_train, y_pred_train_xgb))\n",
    "print('R^2 score:',metrics.r2_score(y_test, y_pred_test_xgb))\n",
    "print('MSE score(training):',metrics.mean_squared_error(y_train, y_pred_train_xgb))\n",
    "print('MAE score(training):',metrics.mean_absolute_error(y_train, y_pred_train_xgb))\n",
    "print('MSE score:',metrics.mean_squared_error(y_test, y_pred_test_xgb))\n",
    "print('MAE score:',metrics.mean_absolute_error(y_test, y_pred_test_xgb))"
   ]
  },
  {
   "cell_type": "code",
   "execution_count": 23,
   "metadata": {},
   "outputs": [
    {
     "data": {
      "image/png": "[encoded data removed]",
      "text/plain": [
       "<Figure size 432x288 with 1 Axes>"
      ]
     },
     "metadata": {},
     "output_type": "display_data"
    }
   ],
   "source": [
    "## Plotting the predicted price difference and the true price difference\n",
    "import matplotlib.pyplot as plt\n",
    "plt.scatter(y_pred_test_xgb,y_test, s=5)\n",
    "plt.title('test data prediction')\n",
    "plt.xlabel('predicted')\n",
    "plt.ylabel('true')\n",
    "plt.show()"
   ]
  },
  {
   "cell_type": "code",
   "execution_count": 24,
   "metadata": {},
   "outputs": [
    {
     "data": {
      "image/png": "[encoded data removed]",
      "text/plain": [
       "<Figure size 432x288 with 1 Axes>"
      ]
     },
     "metadata": {},
     "output_type": "display_data"
    }
   ],
   "source": [
    "plt.scatter(y_pred_train_xgb,y_train, s=5)\n",
    "plt.title('trainging data prediction')\n",
    "plt.xlabel('predicted')\n",
    "plt.ylabel('true')\n",
    "plt.show()"
   ]
  },
  {
   "cell_type": "code",
   "execution_count": 26,
   "metadata": {},
   "outputs": [
    {
     "name": "stdout",
     "output_type": "stream",
     "text": [
      "1 Condition 2\n",
      "2 Year Remod/Add\n",
      "3 Exter Qual\n",
      "4 Bsmt Unf SF\n",
      "5 1st Flr SF\n",
      "6 2nd Flr SF\n",
      "7 Gr Liv Area\n",
      "8 BsmtFin Type 2\n",
      "9 Bsmt Unf SF\n",
      "10 Full Bath\n",
      "11 Half Bath\n",
      "12 Kitchen AbvGr\n",
      "13 Garage Cond\n",
      "14 Garage Cars\n",
      "15 Wood Deck SF\n",
      "16 Pool QC\n",
      "17 Misc Feature\n",
      "18 Sale Condition\n",
      "101 Condition 2_2\n",
      "102 Year Remod/Add_2\n",
      "103 Exter Qual_2\n",
      "104 Bsmt Unf SF_2\n",
      "105 1st Flr SF_2\n",
      "106 2nd Flr SF_2\n",
      "107 Gr Liv Area_2\n",
      "108 BsmtFin Type 2_2\n",
      "109 Bsmt Unf SF_2\n",
      "110 Full Bath_2\n",
      "111 Half Bath_2\n",
      "112 Kitchen AbvGr_2\n",
      "113 Garage Cond_2\n",
      "114 Garage Cars_2\n",
      "115 Wood Deck SF_2\n",
      "116 Pool QC_2\n",
      "117 Misc Feature_2\n",
      "118 Sale Condition_2\n"
     ]
    }
   ],
   "source": [
    "# show mapping of feature code versus feature name:\n",
    "for i in range(len(orig_column_names)):\n",
    "    print(col_name4xgb[i],orig_column_names[i])"
   ]
  },
  {
   "cell_type": "code",
   "execution_count": 27,
   "metadata": {},
   "outputs": [
    {
     "data": {
      "image/png": "[encoded data removed]",
      "text/plain": [
       "<Figure size 864x1584 with 1 Axes>"
      ]
     },
     "metadata": {},
     "output_type": "display_data"
    }
   ],
   "source": [
    "from xgboost import plot_importance\n",
    "fig, ax = plt.subplots(figsize=(12,22))\n",
    "xgb.plot_importance(Gb_model01, max_num_features=36, height=0.8, ax=ax)\n",
    "plt.show()"
   ]
  },
  {
   "cell_type": "markdown",
   "metadata": {},
   "source": [
    "## Try run a cross-validation to know the Xgboost model0 performance."
   ]
  },
  {
   "cell_type": "code",
   "execution_count": 31,
   "metadata": {},
   "outputs": [],
   "source": [
    "import numpy as np\n",
    "from sklearn.model_selection import KFold, cross_val_score\n",
    "k_fold = KFold(n_splits=20)"
   ]
  },
  {
   "cell_type": "markdown",
   "metadata": {},
   "source": [
    "### Need to experiment how to do CV on Xgboost"
   ]
  },
  {
   "cell_type": "code",
   "execution_count": null,
   "metadata": {},
   "outputs": [],
   "source": [
    "xgb.cv(my_params, xgdmat, nfold=20, metrics={'rmse'}, seed=0,callbacks=[xgb.callback.print_evaluation(show_stdv=True)])"
   ]
  },
  {
   "cell_type": "code",
   "execution_count": 37,
   "metadata": {},
   "outputs": [
    {
     "ename": "TypeError",
     "evalue": "estimator should be an estimator implementing 'fit' method, <xgboost.core.Booster object at 0x7fdb39898b38> was passed",
     "output_type": "error",
     "traceback": [
      "\u001b[0;31m---------------------------------------------------------------------------\u001b[0m",
      "\u001b[0;31mTypeError\u001b[0m                                 Traceback (most recent call last)",
      "\u001b[0;32m<ipython-input-37-9b213b08e930>\u001b[0m in \u001b[0;36m<module>\u001b[0;34m()\u001b[0m\n\u001b[1;32m      1\u001b[0m \u001b[0mk_fold\u001b[0m\u001b[0;34m.\u001b[0m\u001b[0mget_n_splits\u001b[0m\u001b[0;34m(\u001b[0m\u001b[0mX_train\u001b[0m\u001b[0;34m)\u001b[0m\u001b[0;34m\u001b[0m\u001b[0m\n\u001b[0;32m----> 2\u001b[0;31m \u001b[0mscores\u001b[0m \u001b[0;34m=\u001b[0m \u001b[0mnp\u001b[0m\u001b[0;34m.\u001b[0m\u001b[0msqrt\u001b[0m\u001b[0;34m(\u001b[0m\u001b[0;34m-\u001b[0m\u001b[0;36m1\u001b[0m\u001b[0;34m*\u001b[0m\u001b[0mcross_val_score\u001b[0m\u001b[0;34m(\u001b[0m\u001b[0mGb_model01\u001b[0m\u001b[0;34m,\u001b[0m \u001b[0mX_train\u001b[0m\u001b[0;34m,\u001b[0m \u001b[0my_train\u001b[0m\u001b[0;34m,\u001b[0m \u001b[0mcv\u001b[0m\u001b[0;34m=\u001b[0m\u001b[0;36m20\u001b[0m\u001b[0;34m,\u001b[0m \u001b[0mverbose\u001b[0m\u001b[0;34m=\u001b[0m\u001b[0;36m10\u001b[0m\u001b[0;34m,\u001b[0m \u001b[0mscoring\u001b[0m \u001b[0;34m=\u001b[0m \u001b[0;34m'neg_mean_squared_error'\u001b[0m\u001b[0;34m)\u001b[0m\u001b[0;34m)\u001b[0m\u001b[0;34m\u001b[0m\u001b[0m\n\u001b[0m\u001b[1;32m      3\u001b[0m \u001b[0mprint\u001b[0m\u001b[0;34m(\u001b[0m\u001b[0;34m'Cross-validated scores:'\u001b[0m\u001b[0;34m,\u001b[0m \u001b[0mscores\u001b[0m\u001b[0;34m)\u001b[0m\u001b[0;34m\u001b[0m\u001b[0m\n",
      "\u001b[0;32m~/miniconda3/lib/python3.6/site-packages/sklearn/model_selection/_validation.py\u001b[0m in \u001b[0;36mcross_val_score\u001b[0;34m(estimator, X, y, groups, scoring, cv, n_jobs, verbose, fit_params, pre_dispatch)\u001b[0m\n\u001b[1;32m    333\u001b[0m     \"\"\"\n\u001b[1;32m    334\u001b[0m     \u001b[0;31m# To ensure multimetric format is not supported\u001b[0m\u001b[0;34m\u001b[0m\u001b[0;34m\u001b[0m\u001b[0m\n\u001b[0;32m--> 335\u001b[0;31m     \u001b[0mscorer\u001b[0m \u001b[0;34m=\u001b[0m \u001b[0mcheck_scoring\u001b[0m\u001b[0;34m(\u001b[0m\u001b[0mestimator\u001b[0m\u001b[0;34m,\u001b[0m \u001b[0mscoring\u001b[0m\u001b[0;34m=\u001b[0m\u001b[0mscoring\u001b[0m\u001b[0;34m)\u001b[0m\u001b[0;34m\u001b[0m\u001b[0m\n\u001b[0m\u001b[1;32m    336\u001b[0m \u001b[0;34m\u001b[0m\u001b[0m\n\u001b[1;32m    337\u001b[0m     cv_results = cross_validate(estimator=estimator, X=X, y=y, groups=groups,\n",
      "\u001b[0;32m~/miniconda3/lib/python3.6/site-packages/sklearn/metrics/scorer.py\u001b[0m in \u001b[0;36mcheck_scoring\u001b[0;34m(estimator, scoring, allow_none)\u001b[0m\n\u001b[1;32m    272\u001b[0m     \u001b[0;32mif\u001b[0m \u001b[0;32mnot\u001b[0m \u001b[0mhasattr\u001b[0m\u001b[0;34m(\u001b[0m\u001b[0mestimator\u001b[0m\u001b[0;34m,\u001b[0m \u001b[0;34m'fit'\u001b[0m\u001b[0;34m)\u001b[0m\u001b[0;34m:\u001b[0m\u001b[0;34m\u001b[0m\u001b[0m\n\u001b[1;32m    273\u001b[0m         raise TypeError(\"estimator should be an estimator implementing \"\n\u001b[0;32m--> 274\u001b[0;31m                         \"'fit' method, %r was passed\" % estimator)\n\u001b[0m\u001b[1;32m    275\u001b[0m     \u001b[0;32mif\u001b[0m \u001b[0misinstance\u001b[0m\u001b[0;34m(\u001b[0m\u001b[0mscoring\u001b[0m\u001b[0;34m,\u001b[0m \u001b[0msix\u001b[0m\u001b[0;34m.\u001b[0m\u001b[0mstring_types\u001b[0m\u001b[0;34m)\u001b[0m\u001b[0;34m:\u001b[0m\u001b[0;34m\u001b[0m\u001b[0m\n\u001b[1;32m    276\u001b[0m         \u001b[0;32mreturn\u001b[0m \u001b[0mget_scorer\u001b[0m\u001b[0;34m(\u001b[0m\u001b[0mscoring\u001b[0m\u001b[0;34m)\u001b[0m\u001b[0;34m\u001b[0m\u001b[0m\n",
      "\u001b[0;31mTypeError\u001b[0m: estimator should be an estimator implementing 'fit' method, <xgboost.core.Booster object at 0x7fdb39898b38> was passed"
     ]
    }
   ],
   "source": [
    "k_fold.get_n_splits(X_train)\n",
    "scores = np.sqrt(-1*cross_val_score(Gb_model01, X_train, y_train, cv=20, verbose=10, scoring = 'neg_mean_squared_error'))\n",
    "print('Cross-validated scores:', scores)"
   ]
  },
  {
   "cell_type": "code",
   "execution_count": 32,
   "metadata": {},
   "outputs": [
    {
     "name": "stdout",
     "output_type": "stream",
     "text": [
      "Mean Cross-validation scores of MSE: 53263.1307391\n"
     ]
    }
   ],
   "source": [
    "print('Mean Cross-validation scores of MSE:',np.mean(scores))"
   ]
  },
  {
   "cell_type": "code",
   "execution_count": 38,
   "metadata": {},
   "outputs": [
    {
     "data": {
      "text/plain": [
       "DescribeResult(nobs=20, minmax=(46188.077511158765, 72043.115563603205), mean=53263.130739140171, variance=56831459.222560018, skewness=1.267815975506349, kurtosis=0.30801714300650707)"
      ]
     },
     "execution_count": 38,
     "metadata": {},
     "output_type": "execute_result"
    }
   ],
   "source": [
    "from scipy import stats\n",
    "stats.describe(scores)"
   ]
  },
  {
   "cell_type": "code",
   "execution_count": 33,
   "metadata": {},
   "outputs": [
    {
     "name": "stdout",
     "output_type": "stream",
     "text": [
      "[ 1  2  3  4  5  6  7  8  9 10 11 12 13 14 15 16 17 18 19 20]\n"
     ]
    },
    {
     "data": {
      "image/png": "[encoded data removed]",
      "text/plain": [
       "<Figure size 1080x648 with 1 Axes>"
      ]
     },
     "metadata": {},
     "output_type": "display_data"
    }
   ],
   "source": [
    "## Plot the variation of the cross-validation scores\n",
    "stp=np.array([x for x in range(1,21)])\n",
    "print(stp)\n",
    "fig = plt.figure(figsize=(15,9))\n",
    "ax = plt.gca()\n",
    "ax.scatter(stp,scores,s=8)\n",
    "ax.set_yscale('log')\n",
    "plt.title('cross-validation score')\n",
    "plt.xlabel('Fold')\n",
    "plt.ylabel('MSE')\n",
    "plt.show()"
   ]
  },
  {
   "cell_type": "code",
   "execution_count": null,
   "metadata": {},
   "outputs": [],
   "source": []
  }
 ],
 "metadata": {
  "kernelspec": {
   "display_name": "Python 3",
   "language": "python",
   "name": "python3"
  },
  "language_info": {
   "codemirror_mode": {
    "name": "ipython",
    "version": 3
   },
   "file_extension": ".py",
   "mimetype": "text/x-python",
   "name": "python",
   "nbconvert_exporter": "python",
   "pygments_lexer": "ipython3",
   "version": "3.6.5"
  }
 },
 "nbformat": 4,
 "nbformat_minor": 2
}
